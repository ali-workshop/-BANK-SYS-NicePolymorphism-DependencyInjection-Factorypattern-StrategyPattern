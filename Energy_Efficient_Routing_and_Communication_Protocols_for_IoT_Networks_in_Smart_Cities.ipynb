{
  "nbformat": 4,
  "nbformat_minor": 0,
  "metadata": {
    "colab": {
      "provenance": [],
      "gpuType": "T4",
      "authorship_tag": "ABX9TyMm1NFU3ExKXXce3ILL4HUB",
      "include_colab_link": true
    },
    "kernelspec": {
      "name": "python3",
      "display_name": "Python 3"
    },
    "language_info": {
      "name": "python"
    },
    "accelerator": "GPU"
  },
  "cells": [
    {
      "cell_type": "markdown",
      "metadata": {
        "id": "view-in-github",
        "colab_type": "text"
      },
      "source": [
        "<a href=\"https://colab.research.google.com/github/ali-workshop/-BANK-SYS-NicePolymorphism-DependencyInjection-Factorypattern-StrategyPattern/blob/main/Energy_Efficient_Routing_and_Communication_Protocols_for_IoT_Networks_in_Smart_Cities.ipynb\" target=\"_parent\"><img src=\"https://colab.research.google.com/assets/colab-badge.svg\" alt=\"Open In Colab\"/></a>"
      ]
    },
    {
      "cell_type": "markdown",
      "source": [
        "#Download the necessary libraries"
      ],
      "metadata": {
        "id": "6gJBf9aKfgtX"
      }
    },
    {
      "cell_type": "code",
      "source": [
        "!pip install networkx"
      ],
      "metadata": {
        "colab": {
          "base_uri": "https://localhost:8080/"
        },
        "id": "sXXZR4M7fg3V",
        "outputId": "356527ef-9668-40db-a7f2-ac2bfe213e65"
      },
      "execution_count": null,
      "outputs": [
        {
          "output_type": "stream",
          "name": "stdout",
          "text": [
            "Requirement already satisfied: networkx in /usr/local/lib/python3.10/dist-packages (3.1)\n"
          ]
        }
      ]
    },
    {
      "cell_type": "markdown",
      "source": [
        "#import the important libraries"
      ],
      "metadata": {
        "id": "tc5CvFJlfH3G"
      }
    },
    {
      "cell_type": "code",
      "source": [
        "import pandas as pd\n",
        "import tensorflow as tf\n",
        "import numpy as np\n",
        "from imblearn.over_sampling import SMOTE\n",
        "import pandas as pd\n",
        "from sklearn.model_selection import train_test_split\n",
        "from sklearn.preprocessing import MinMaxScaler\n",
        "from sklearn.svm import SVC\n",
        "from sklearn.tree import DecisionTreeClassifier\n",
        "from sklearn.ensemble import RandomForestClassifier\n",
        "from sklearn.metrics import precision_score, recall_score, f1_score\n",
        "import xgboost as xgb\n",
        "import matplotlib.pyplot as plt\n",
        "import networkx as nx\n",
        "from matplotlib.animation import FuncAnimation\n",
        "from IPython.display import HTML\n",
        "from mpl_toolkits.mplot3d import Axes3D"
      ],
      "metadata": {
        "id": "VXPXFAARfIFs"
      },
      "execution_count": null,
      "outputs": []
    },
    {
      "cell_type": "markdown",
      "source": [
        "#read the data set using pandas"
      ],
      "metadata": {
        "id": "r7AExfUAgMSZ"
      }
    },
    {
      "cell_type": "code",
      "source": [
        "data_path=\"/content/data.csv\"\n",
        "data = pd.read_csv(data_path)"
      ],
      "metadata": {
        "id": "G4LXXGC_fSGG"
      },
      "execution_count": null,
      "outputs": []
    },
    {
      "cell_type": "markdown",
      "source": [
        "#explore the data set"
      ],
      "metadata": {
        "id": "RsboMfyKgXFW"
      }
    },
    {
      "cell_type": "code",
      "source": [
        "data.info()"
      ],
      "metadata": {
        "colab": {
          "base_uri": "https://localhost:8080/"
        },
        "id": "lIHXf0tygUtf",
        "outputId": "297105d4-cc4f-4032-817e-821dad6a8562"
      },
      "execution_count": null,
      "outputs": [
        {
          "output_type": "stream",
          "name": "stdout",
          "text": [
            "<class 'pandas.core.frame.DataFrame'>\n",
            "RangeIndex: 7199 entries, 0 to 7198\n",
            "Data columns (total 42 columns):\n",
            " #   Column  Non-Null Count  Dtype  \n",
            "---  ------  --------------  -----  \n",
            " 0   0       7199 non-null   int64  \n",
            " 1   0.1     7199 non-null   int64  \n",
            " 2   0.2     7199 non-null   int64  \n",
            " 3   7       7199 non-null   int64  \n",
            " 4   65      7199 non-null   int64  \n",
            " 5   7.1     7199 non-null   int64  \n",
            " 6   71      7199 non-null   int64  \n",
            " 7   9       7199 non-null   int64  \n",
            " 8   6       7199 non-null   int64  \n",
            " 9   11      7199 non-null   int64  \n",
            " 10  6.1     7199 non-null   int64  \n",
            " 11  23      7199 non-null   int64  \n",
            " 12  95      7199 non-null   int64  \n",
            " 13  5       7199 non-null   int64  \n",
            " 14  11.1    7199 non-null   int64  \n",
            " 15  1.2     7199 non-null   float64\n",
            " 16  5.1     7199 non-null   int64  \n",
            " 17  1       7199 non-null   int64  \n",
            " 18  0.3     7199 non-null   int64  \n",
            " 19  0.4     7199 non-null   int64  \n",
            " 20  0.5     7199 non-null   int64  \n",
            " 21  0.6     7199 non-null   int64  \n",
            " 22  0.7     7199 non-null   int64  \n",
            " 23  0.8     7199 non-null   int64  \n",
            " 24  0.9     7199 non-null   int64  \n",
            " 25  0.10    7199 non-null   int64  \n",
            " 26  0.11    7199 non-null   int64  \n",
            " 27  0.12    7199 non-null   int64  \n",
            " 28  0.13    7199 non-null   int64  \n",
            " 29  0.14    7199 non-null   int64  \n",
            " 30  0.15    7199 non-null   int64  \n",
            " 31  1.1     7199 non-null   int64  \n",
            " 32  0.16    7199 non-null   int64  \n",
            " 33  0.17    7199 non-null   int64  \n",
            " 34  0.18    7199 non-null   int64  \n",
            " 35  0.19    7199 non-null   int64  \n",
            " 36  0.20    7199 non-null   int64  \n",
            " 37  65.1    7199 non-null   int64  \n",
            " 38  0.21    7199 non-null   int64  \n",
            " 39  0.22    7199 non-null   int64  \n",
            " 40  208     7199 non-null   int64  \n",
            " 41  -1      7199 non-null   int64  \n",
            "dtypes: float64(1), int64(41)\n",
            "memory usage: 2.3 MB\n"
          ]
        }
      ]
    },
    {
      "cell_type": "code",
      "source": [
        "data.describe()"
      ],
      "metadata": {
        "colab": {
          "base_uri": "https://localhost:8080/",
          "height": 350
        },
        "id": "41_MWzOugbE3",
        "outputId": "d6ae9928-90d1-49b2-d128-6703f9ddc997"
      },
      "execution_count": null,
      "outputs": [
        {
          "output_type": "execute_result",
          "data": {
            "text/plain": [
              "                 0          0.1          0.2            7            65  \\\n",
              "count  7199.000000  7199.000000  7199.000000  7199.000000   7199.000000   \n",
              "mean   1179.663842    11.501597    29.504098     2.135991    202.735936   \n",
              "std     692.391869     6.921821    17.317017     2.702377    737.913875   \n",
              "min       0.000000     0.000000     0.000000     0.000000     12.000000   \n",
              "25%     600.000000     6.000000    15.000000     0.000000     57.000000   \n",
              "50%    1200.000000    12.000000    30.000000     1.000000     77.000000   \n",
              "75%    1779.500000    17.500000    44.500000     3.000000    112.000000   \n",
              "max    2359.000000    23.000000    59.000000    21.000000  15607.000000   \n",
              "\n",
              "               7.1            71             9            6           11  ...  \\\n",
              "count  7199.000000   7199.000000   7199.000000  7199.000000  7199.000000  ...   \n",
              "mean      8.453118    748.881095     72.141686     6.027782    13.387276  ...   \n",
              "std       2.673383   3630.482189    406.533328     0.814945     4.512005  ...   \n",
              "min       0.000000     15.000000      0.000000     4.000000     5.000000  ...   \n",
              "25%       7.000000    106.000000     16.000000     6.000000    10.000000  ...   \n",
              "50%       8.000000    162.000000     29.000000     6.000000    13.000000  ...   \n",
              "75%      10.000000    287.000000     48.000000     6.000000    15.000000  ...   \n",
              "max      37.000000  84500.000000  13591.000000    11.000000    42.000000  ...   \n",
              "\n",
              "              0.16         0.17         0.18         0.19         0.20  \\\n",
              "count  7199.000000  7199.000000  7199.000000  7199.000000  7199.000000   \n",
              "mean      0.104737     0.100986     0.106543     0.093068     0.057925   \n",
              "std       0.306235     0.301331     0.308552     0.290549     0.233617   \n",
              "min       0.000000     0.000000     0.000000     0.000000     0.000000   \n",
              "25%       0.000000     0.000000     0.000000     0.000000     0.000000   \n",
              "50%       0.000000     0.000000     0.000000     0.000000     0.000000   \n",
              "75%       0.000000     0.000000     0.000000     0.000000     0.000000   \n",
              "max       1.000000     1.000000     1.000000     1.000000     1.000000   \n",
              "\n",
              "               65.1         0.21         0.22          208           -1  \n",
              "count   7199.000000  7199.000000  7199.000000  7199.000000  7199.000000  \n",
              "mean     198.538408     0.251424     5.805806   251.827198    -0.933324  \n",
              "std      725.231555     1.176842    22.227525    43.219695     0.359060  \n",
              "min       12.000000     0.000000     0.000000   190.000000    -1.000000  \n",
              "25%       56.000000     0.000000     0.000000   230.000000    -1.000000  \n",
              "50%       75.000000     0.000000     2.000000   243.000000    -1.000000  \n",
              "75%      109.000000     0.000000     5.000000   264.000000    -1.000000  \n",
              "max    14918.000000    25.000000   936.000000  1736.000000     1.000000  \n",
              "\n",
              "[8 rows x 42 columns]"
            ],
            "text/html": [
              "\n",
              "  <div id=\"df-5bb98acf-1a61-4773-95fc-79d116a10394\" class=\"colab-df-container\">\n",
              "    <div>\n",
              "<style scoped>\n",
              "    .dataframe tbody tr th:only-of-type {\n",
              "        vertical-align: middle;\n",
              "    }\n",
              "\n",
              "    .dataframe tbody tr th {\n",
              "        vertical-align: top;\n",
              "    }\n",
              "\n",
              "    .dataframe thead th {\n",
              "        text-align: right;\n",
              "    }\n",
              "</style>\n",
              "<table border=\"1\" class=\"dataframe\">\n",
              "  <thead>\n",
              "    <tr style=\"text-align: right;\">\n",
              "      <th></th>\n",
              "      <th>0</th>\n",
              "      <th>0.1</th>\n",
              "      <th>0.2</th>\n",
              "      <th>7</th>\n",
              "      <th>65</th>\n",
              "      <th>7.1</th>\n",
              "      <th>71</th>\n",
              "      <th>9</th>\n",
              "      <th>6</th>\n",
              "      <th>11</th>\n",
              "      <th>...</th>\n",
              "      <th>0.16</th>\n",
              "      <th>0.17</th>\n",
              "      <th>0.18</th>\n",
              "      <th>0.19</th>\n",
              "      <th>0.20</th>\n",
              "      <th>65.1</th>\n",
              "      <th>0.21</th>\n",
              "      <th>0.22</th>\n",
              "      <th>208</th>\n",
              "      <th>-1</th>\n",
              "    </tr>\n",
              "  </thead>\n",
              "  <tbody>\n",
              "    <tr>\n",
              "      <th>count</th>\n",
              "      <td>7199.000000</td>\n",
              "      <td>7199.000000</td>\n",
              "      <td>7199.000000</td>\n",
              "      <td>7199.000000</td>\n",
              "      <td>7199.000000</td>\n",
              "      <td>7199.000000</td>\n",
              "      <td>7199.000000</td>\n",
              "      <td>7199.000000</td>\n",
              "      <td>7199.000000</td>\n",
              "      <td>7199.000000</td>\n",
              "      <td>...</td>\n",
              "      <td>7199.000000</td>\n",
              "      <td>7199.000000</td>\n",
              "      <td>7199.000000</td>\n",
              "      <td>7199.000000</td>\n",
              "      <td>7199.000000</td>\n",
              "      <td>7199.000000</td>\n",
              "      <td>7199.000000</td>\n",
              "      <td>7199.000000</td>\n",
              "      <td>7199.000000</td>\n",
              "      <td>7199.000000</td>\n",
              "    </tr>\n",
              "    <tr>\n",
              "      <th>mean</th>\n",
              "      <td>1179.663842</td>\n",
              "      <td>11.501597</td>\n",
              "      <td>29.504098</td>\n",
              "      <td>2.135991</td>\n",
              "      <td>202.735936</td>\n",
              "      <td>8.453118</td>\n",
              "      <td>748.881095</td>\n",
              "      <td>72.141686</td>\n",
              "      <td>6.027782</td>\n",
              "      <td>13.387276</td>\n",
              "      <td>...</td>\n",
              "      <td>0.104737</td>\n",
              "      <td>0.100986</td>\n",
              "      <td>0.106543</td>\n",
              "      <td>0.093068</td>\n",
              "      <td>0.057925</td>\n",
              "      <td>198.538408</td>\n",
              "      <td>0.251424</td>\n",
              "      <td>5.805806</td>\n",
              "      <td>251.827198</td>\n",
              "      <td>-0.933324</td>\n",
              "    </tr>\n",
              "    <tr>\n",
              "      <th>std</th>\n",
              "      <td>692.391869</td>\n",
              "      <td>6.921821</td>\n",
              "      <td>17.317017</td>\n",
              "      <td>2.702377</td>\n",
              "      <td>737.913875</td>\n",
              "      <td>2.673383</td>\n",
              "      <td>3630.482189</td>\n",
              "      <td>406.533328</td>\n",
              "      <td>0.814945</td>\n",
              "      <td>4.512005</td>\n",
              "      <td>...</td>\n",
              "      <td>0.306235</td>\n",
              "      <td>0.301331</td>\n",
              "      <td>0.308552</td>\n",
              "      <td>0.290549</td>\n",
              "      <td>0.233617</td>\n",
              "      <td>725.231555</td>\n",
              "      <td>1.176842</td>\n",
              "      <td>22.227525</td>\n",
              "      <td>43.219695</td>\n",
              "      <td>0.359060</td>\n",
              "    </tr>\n",
              "    <tr>\n",
              "      <th>min</th>\n",
              "      <td>0.000000</td>\n",
              "      <td>0.000000</td>\n",
              "      <td>0.000000</td>\n",
              "      <td>0.000000</td>\n",
              "      <td>12.000000</td>\n",
              "      <td>0.000000</td>\n",
              "      <td>15.000000</td>\n",
              "      <td>0.000000</td>\n",
              "      <td>4.000000</td>\n",
              "      <td>5.000000</td>\n",
              "      <td>...</td>\n",
              "      <td>0.000000</td>\n",
              "      <td>0.000000</td>\n",
              "      <td>0.000000</td>\n",
              "      <td>0.000000</td>\n",
              "      <td>0.000000</td>\n",
              "      <td>12.000000</td>\n",
              "      <td>0.000000</td>\n",
              "      <td>0.000000</td>\n",
              "      <td>190.000000</td>\n",
              "      <td>-1.000000</td>\n",
              "    </tr>\n",
              "    <tr>\n",
              "      <th>25%</th>\n",
              "      <td>600.000000</td>\n",
              "      <td>6.000000</td>\n",
              "      <td>15.000000</td>\n",
              "      <td>0.000000</td>\n",
              "      <td>57.000000</td>\n",
              "      <td>7.000000</td>\n",
              "      <td>106.000000</td>\n",
              "      <td>16.000000</td>\n",
              "      <td>6.000000</td>\n",
              "      <td>10.000000</td>\n",
              "      <td>...</td>\n",
              "      <td>0.000000</td>\n",
              "      <td>0.000000</td>\n",
              "      <td>0.000000</td>\n",
              "      <td>0.000000</td>\n",
              "      <td>0.000000</td>\n",
              "      <td>56.000000</td>\n",
              "      <td>0.000000</td>\n",
              "      <td>0.000000</td>\n",
              "      <td>230.000000</td>\n",
              "      <td>-1.000000</td>\n",
              "    </tr>\n",
              "    <tr>\n",
              "      <th>50%</th>\n",
              "      <td>1200.000000</td>\n",
              "      <td>12.000000</td>\n",
              "      <td>30.000000</td>\n",
              "      <td>1.000000</td>\n",
              "      <td>77.000000</td>\n",
              "      <td>8.000000</td>\n",
              "      <td>162.000000</td>\n",
              "      <td>29.000000</td>\n",
              "      <td>6.000000</td>\n",
              "      <td>13.000000</td>\n",
              "      <td>...</td>\n",
              "      <td>0.000000</td>\n",
              "      <td>0.000000</td>\n",
              "      <td>0.000000</td>\n",
              "      <td>0.000000</td>\n",
              "      <td>0.000000</td>\n",
              "      <td>75.000000</td>\n",
              "      <td>0.000000</td>\n",
              "      <td>2.000000</td>\n",
              "      <td>243.000000</td>\n",
              "      <td>-1.000000</td>\n",
              "    </tr>\n",
              "    <tr>\n",
              "      <th>75%</th>\n",
              "      <td>1779.500000</td>\n",
              "      <td>17.500000</td>\n",
              "      <td>44.500000</td>\n",
              "      <td>3.000000</td>\n",
              "      <td>112.000000</td>\n",
              "      <td>10.000000</td>\n",
              "      <td>287.000000</td>\n",
              "      <td>48.000000</td>\n",
              "      <td>6.000000</td>\n",
              "      <td>15.000000</td>\n",
              "      <td>...</td>\n",
              "      <td>0.000000</td>\n",
              "      <td>0.000000</td>\n",
              "      <td>0.000000</td>\n",
              "      <td>0.000000</td>\n",
              "      <td>0.000000</td>\n",
              "      <td>109.000000</td>\n",
              "      <td>0.000000</td>\n",
              "      <td>5.000000</td>\n",
              "      <td>264.000000</td>\n",
              "      <td>-1.000000</td>\n",
              "    </tr>\n",
              "    <tr>\n",
              "      <th>max</th>\n",
              "      <td>2359.000000</td>\n",
              "      <td>23.000000</td>\n",
              "      <td>59.000000</td>\n",
              "      <td>21.000000</td>\n",
              "      <td>15607.000000</td>\n",
              "      <td>37.000000</td>\n",
              "      <td>84500.000000</td>\n",
              "      <td>13591.000000</td>\n",
              "      <td>11.000000</td>\n",
              "      <td>42.000000</td>\n",
              "      <td>...</td>\n",
              "      <td>1.000000</td>\n",
              "      <td>1.000000</td>\n",
              "      <td>1.000000</td>\n",
              "      <td>1.000000</td>\n",
              "      <td>1.000000</td>\n",
              "      <td>14918.000000</td>\n",
              "      <td>25.000000</td>\n",
              "      <td>936.000000</td>\n",
              "      <td>1736.000000</td>\n",
              "      <td>1.000000</td>\n",
              "    </tr>\n",
              "  </tbody>\n",
              "</table>\n",
              "<p>8 rows × 42 columns</p>\n",
              "</div>\n",
              "    <div class=\"colab-df-buttons\">\n",
              "\n",
              "  <div class=\"colab-df-container\">\n",
              "    <button class=\"colab-df-convert\" onclick=\"convertToInteractive('df-5bb98acf-1a61-4773-95fc-79d116a10394')\"\n",
              "            title=\"Convert this dataframe to an interactive table.\"\n",
              "            style=\"display:none;\">\n",
              "\n",
              "  <svg xmlns=\"http://www.w3.org/2000/svg\" height=\"24px\" viewBox=\"0 -960 960 960\">\n",
              "    <path d=\"M120-120v-720h720v720H120Zm60-500h600v-160H180v160Zm220 220h160v-160H400v160Zm0 220h160v-160H400v160ZM180-400h160v-160H180v160Zm440 0h160v-160H620v160ZM180-180h160v-160H180v160Zm440 0h160v-160H620v160Z\"/>\n",
              "  </svg>\n",
              "    </button>\n",
              "\n",
              "  <style>\n",
              "    .colab-df-container {\n",
              "      display:flex;\n",
              "      gap: 12px;\n",
              "    }\n",
              "\n",
              "    .colab-df-convert {\n",
              "      background-color: #E8F0FE;\n",
              "      border: none;\n",
              "      border-radius: 50%;\n",
              "      cursor: pointer;\n",
              "      display: none;\n",
              "      fill: #1967D2;\n",
              "      height: 32px;\n",
              "      padding: 0 0 0 0;\n",
              "      width: 32px;\n",
              "    }\n",
              "\n",
              "    .colab-df-convert:hover {\n",
              "      background-color: #E2EBFA;\n",
              "      box-shadow: 0px 1px 2px rgba(60, 64, 67, 0.3), 0px 1px 3px 1px rgba(60, 64, 67, 0.15);\n",
              "      fill: #174EA6;\n",
              "    }\n",
              "\n",
              "    .colab-df-buttons div {\n",
              "      margin-bottom: 4px;\n",
              "    }\n",
              "\n",
              "    [theme=dark] .colab-df-convert {\n",
              "      background-color: #3B4455;\n",
              "      fill: #D2E3FC;\n",
              "    }\n",
              "\n",
              "    [theme=dark] .colab-df-convert:hover {\n",
              "      background-color: #434B5C;\n",
              "      box-shadow: 0px 1px 3px 1px rgba(0, 0, 0, 0.15);\n",
              "      filter: drop-shadow(0px 1px 2px rgba(0, 0, 0, 0.3));\n",
              "      fill: #FFFFFF;\n",
              "    }\n",
              "  </style>\n",
              "\n",
              "    <script>\n",
              "      const buttonEl =\n",
              "        document.querySelector('#df-5bb98acf-1a61-4773-95fc-79d116a10394 button.colab-df-convert');\n",
              "      buttonEl.style.display =\n",
              "        google.colab.kernel.accessAllowed ? 'block' : 'none';\n",
              "\n",
              "      async function convertToInteractive(key) {\n",
              "        const element = document.querySelector('#df-5bb98acf-1a61-4773-95fc-79d116a10394');\n",
              "        const dataTable =\n",
              "          await google.colab.kernel.invokeFunction('convertToInteractive',\n",
              "                                                    [key], {});\n",
              "        if (!dataTable) return;\n",
              "\n",
              "        const docLinkHtml = 'Like what you see? Visit the ' +\n",
              "          '<a target=\"_blank\" href=https://colab.research.google.com/notebooks/data_table.ipynb>data table notebook</a>'\n",
              "          + ' to learn more about interactive tables.';\n",
              "        element.innerHTML = '';\n",
              "        dataTable['output_type'] = 'display_data';\n",
              "        await google.colab.output.renderOutput(dataTable, element);\n",
              "        const docLink = document.createElement('div');\n",
              "        docLink.innerHTML = docLinkHtml;\n",
              "        element.appendChild(docLink);\n",
              "      }\n",
              "    </script>\n",
              "  </div>\n",
              "\n",
              "\n",
              "<div id=\"df-f5dd42fa-69e1-4cdd-a0ce-61abf55ffa9a\">\n",
              "  <button class=\"colab-df-quickchart\" onclick=\"quickchart('df-f5dd42fa-69e1-4cdd-a0ce-61abf55ffa9a')\"\n",
              "            title=\"Suggest charts.\"\n",
              "            style=\"display:none;\">\n",
              "\n",
              "<svg xmlns=\"http://www.w3.org/2000/svg\" height=\"24px\"viewBox=\"0 0 24 24\"\n",
              "     width=\"24px\">\n",
              "    <g>\n",
              "        <path d=\"M19 3H5c-1.1 0-2 .9-2 2v14c0 1.1.9 2 2 2h14c1.1 0 2-.9 2-2V5c0-1.1-.9-2-2-2zM9 17H7v-7h2v7zm4 0h-2V7h2v10zm4 0h-2v-4h2v4z\"/>\n",
              "    </g>\n",
              "</svg>\n",
              "  </button>\n",
              "\n",
              "<style>\n",
              "  .colab-df-quickchart {\n",
              "      --bg-color: #E8F0FE;\n",
              "      --fill-color: #1967D2;\n",
              "      --hover-bg-color: #E2EBFA;\n",
              "      --hover-fill-color: #174EA6;\n",
              "      --disabled-fill-color: #AAA;\n",
              "      --disabled-bg-color: #DDD;\n",
              "  }\n",
              "\n",
              "  [theme=dark] .colab-df-quickchart {\n",
              "      --bg-color: #3B4455;\n",
              "      --fill-color: #D2E3FC;\n",
              "      --hover-bg-color: #434B5C;\n",
              "      --hover-fill-color: #FFFFFF;\n",
              "      --disabled-bg-color: #3B4455;\n",
              "      --disabled-fill-color: #666;\n",
              "  }\n",
              "\n",
              "  .colab-df-quickchart {\n",
              "    background-color: var(--bg-color);\n",
              "    border: none;\n",
              "    border-radius: 50%;\n",
              "    cursor: pointer;\n",
              "    display: none;\n",
              "    fill: var(--fill-color);\n",
              "    height: 32px;\n",
              "    padding: 0;\n",
              "    width: 32px;\n",
              "  }\n",
              "\n",
              "  .colab-df-quickchart:hover {\n",
              "    background-color: var(--hover-bg-color);\n",
              "    box-shadow: 0 1px 2px rgba(60, 64, 67, 0.3), 0 1px 3px 1px rgba(60, 64, 67, 0.15);\n",
              "    fill: var(--button-hover-fill-color);\n",
              "  }\n",
              "\n",
              "  .colab-df-quickchart-complete:disabled,\n",
              "  .colab-df-quickchart-complete:disabled:hover {\n",
              "    background-color: var(--disabled-bg-color);\n",
              "    fill: var(--disabled-fill-color);\n",
              "    box-shadow: none;\n",
              "  }\n",
              "\n",
              "  .colab-df-spinner {\n",
              "    border: 2px solid var(--fill-color);\n",
              "    border-color: transparent;\n",
              "    border-bottom-color: var(--fill-color);\n",
              "    animation:\n",
              "      spin 1s steps(1) infinite;\n",
              "  }\n",
              "\n",
              "  @keyframes spin {\n",
              "    0% {\n",
              "      border-color: transparent;\n",
              "      border-bottom-color: var(--fill-color);\n",
              "      border-left-color: var(--fill-color);\n",
              "    }\n",
              "    20% {\n",
              "      border-color: transparent;\n",
              "      border-left-color: var(--fill-color);\n",
              "      border-top-color: var(--fill-color);\n",
              "    }\n",
              "    30% {\n",
              "      border-color: transparent;\n",
              "      border-left-color: var(--fill-color);\n",
              "      border-top-color: var(--fill-color);\n",
              "      border-right-color: var(--fill-color);\n",
              "    }\n",
              "    40% {\n",
              "      border-color: transparent;\n",
              "      border-right-color: var(--fill-color);\n",
              "      border-top-color: var(--fill-color);\n",
              "    }\n",
              "    60% {\n",
              "      border-color: transparent;\n",
              "      border-right-color: var(--fill-color);\n",
              "    }\n",
              "    80% {\n",
              "      border-color: transparent;\n",
              "      border-right-color: var(--fill-color);\n",
              "      border-bottom-color: var(--fill-color);\n",
              "    }\n",
              "    90% {\n",
              "      border-color: transparent;\n",
              "      border-bottom-color: var(--fill-color);\n",
              "    }\n",
              "  }\n",
              "</style>\n",
              "\n",
              "  <script>\n",
              "    async function quickchart(key) {\n",
              "      const quickchartButtonEl =\n",
              "        document.querySelector('#' + key + ' button');\n",
              "      quickchartButtonEl.disabled = true;  // To prevent multiple clicks.\n",
              "      quickchartButtonEl.classList.add('colab-df-spinner');\n",
              "      try {\n",
              "        const charts = await google.colab.kernel.invokeFunction(\n",
              "            'suggestCharts', [key], {});\n",
              "      } catch (error) {\n",
              "        console.error('Error during call to suggestCharts:', error);\n",
              "      }\n",
              "      quickchartButtonEl.classList.remove('colab-df-spinner');\n",
              "      quickchartButtonEl.classList.add('colab-df-quickchart-complete');\n",
              "    }\n",
              "    (() => {\n",
              "      let quickchartButtonEl =\n",
              "        document.querySelector('#df-f5dd42fa-69e1-4cdd-a0ce-61abf55ffa9a button');\n",
              "      quickchartButtonEl.style.display =\n",
              "        google.colab.kernel.accessAllowed ? 'block' : 'none';\n",
              "    })();\n",
              "  </script>\n",
              "</div>\n",
              "    </div>\n",
              "  </div>\n"
            ]
          },
          "metadata": {},
          "execution_count": 5
        }
      ]
    },
    {
      "cell_type": "code",
      "source": [
        "data.columns"
      ],
      "metadata": {
        "colab": {
          "base_uri": "https://localhost:8080/"
        },
        "id": "pF0ENsQBgcpe",
        "outputId": "bea45577-fb15-4297-83fa-b310b2db8970"
      },
      "execution_count": null,
      "outputs": [
        {
          "output_type": "execute_result",
          "data": {
            "text/plain": [
              "Index(['0', '0.1', '0.2', '7', '65', '7.1', '71', '9', '6', '11', '6.1', '23',\n",
              "       '95', '5', '11.1', '1.2', '5.1', '1', '0.3', '0.4', '0.5', '0.6', '0.7',\n",
              "       '0.8', '0.9', '0.10', '0.11', '0.12', '0.13', '0.14', '0.15', '1.1',\n",
              "       '0.16', '0.17', '0.18', '0.19', '0.20', '65.1', '0.21', '0.22', '208',\n",
              "       '-1'],\n",
              "      dtype='object')"
            ]
          },
          "metadata": {},
          "execution_count": 6
        }
      ]
    },
    {
      "cell_type": "markdown",
      "source": [
        "#rename the columns"
      ],
      "metadata": {
        "id": "Mq7Q_UeIgpIL"
      }
    },
    {
      "cell_type": "code",
      "source": [
        "import pandas as pd\n",
        "\n",
        "def rename_columns(data):\n",
        "    # Create a dictionary to map the old column names to the new names\n",
        "    column_mapping1 = {\n",
        "        '0': 'time_H_M',\n",
        "        '0.1': 'time_H',\n",
        "        '0.2': 'time_M',\n",
        "        '7': 'time_S',\n",
        "    }\n",
        "\n",
        "    data.rename(columns=column_mapping1, inplace=True)\n",
        "\n",
        "    # Get the original column names from 4 to 41\n",
        "    original_columns = data.columns[4:42]\n",
        "\n",
        "    # Generate new column names\n",
        "    new_columns = [f'feature_{i+1}' for i in range(37)]\n",
        "\n",
        "    # Create a dictionary to map old column names to new names\n",
        "    column_mapping2 = dict(zip(original_columns, new_columns))\n",
        "\n",
        "    # Rename the columns\n",
        "    data.rename(columns=column_mapping2, inplace=True)\n",
        "\n",
        "    # Create a dictionary to map the old column name '-1' to 'target'\n",
        "    column_mapping3 = {\n",
        "        '-1': 'target',\n",
        "    }\n",
        "\n",
        "    # Use the rename method to rename the columns\n",
        "    data.rename(columns=column_mapping3, inplace=True)"
      ],
      "metadata": {
        "id": "q4k7rzlWgh_a"
      },
      "execution_count": null,
      "outputs": []
    },
    {
      "cell_type": "markdown",
      "source": [
        "#call the function to rename the columns"
      ],
      "metadata": {
        "id": "KFEzEA2rhcVd"
      }
    },
    {
      "cell_type": "code",
      "source": [
        "rename_columns(data)"
      ],
      "metadata": {
        "id": "oM9tufpuhQk6"
      },
      "execution_count": null,
      "outputs": []
    },
    {
      "cell_type": "markdown",
      "source": [
        "#check for the new column's names"
      ],
      "metadata": {
        "id": "Zt6a5ir-hgol"
      }
    },
    {
      "cell_type": "code",
      "source": [
        "data.columns"
      ],
      "metadata": {
        "colab": {
          "base_uri": "https://localhost:8080/"
        },
        "id": "l5AdoHqEhWon",
        "outputId": "1e3e44d6-708e-4d31-a580-d9a2d29fdb62"
      },
      "execution_count": null,
      "outputs": [
        {
          "output_type": "execute_result",
          "data": {
            "text/plain": [
              "Index(['time_H_M', 'time_H', 'time_M', 'time_S', 'feature_1', 'feature_2',\n",
              "       'feature_3', 'feature_4', 'feature_5', 'feature_6', 'feature_7',\n",
              "       'feature_8', 'feature_9', 'feature_10', 'feature_11', 'feature_12',\n",
              "       'feature_13', 'feature_14', 'feature_15', 'feature_16', 'feature_17',\n",
              "       'feature_18', 'feature_19', 'feature_20', 'feature_21', 'feature_22',\n",
              "       'feature_23', 'feature_24', 'feature_25', 'feature_26', 'feature_27',\n",
              "       'feature_28', 'feature_29', 'feature_30', 'feature_31', 'feature_32',\n",
              "       'feature_33', 'feature_34', 'feature_35', 'feature_36', 'feature_37',\n",
              "       'target'],\n",
              "      dtype='object')"
            ]
          },
          "metadata": {},
          "execution_count": 9
        }
      ]
    },
    {
      "cell_type": "markdown",
      "source": [
        "#start preprocessing the data"
      ],
      "metadata": {
        "id": "axasEetthp4f"
      }
    },
    {
      "cell_type": "markdown",
      "source": [
        "* replace the value -1 with value 0 in the target column\n",
        "* Solve the problem of imbalance between the labels\n",
        "* Scaling and normalization on the data\n",
        "* define the Features and the Target\n",
        "* split the data into train and test\n"
      ],
      "metadata": {
        "id": "zM93x_jVhtYK"
      }
    },
    {
      "cell_type": "code",
      "source": [
        "data['target'] = data['target'].replace(-1, 0)"
      ],
      "metadata": {
        "id": "I8T01Apyjeni"
      },
      "execution_count": null,
      "outputs": []
    },
    {
      "cell_type": "code",
      "source": [
        "# The data label is unbalanced\n",
        "data[\"target\"].value_counts()"
      ],
      "metadata": {
        "colab": {
          "base_uri": "https://localhost:8080/"
        },
        "id": "SO4SmgaJhZoJ",
        "outputId": "513f2ab0-f79c-429c-acf2-2ba64f7dbf9e"
      },
      "execution_count": null,
      "outputs": [
        {
          "output_type": "execute_result",
          "data": {
            "text/plain": [
              "0    6959\n",
              "1     240\n",
              "Name: target, dtype: int64"
            ]
          },
          "metadata": {},
          "execution_count": 11
        }
      ]
    },
    {
      "cell_type": "code",
      "source": [
        "\n",
        "# Count the occurrences of each unique value in the 'Category' column\n",
        "value_counts = data['target'].value_counts()\n",
        "\n",
        "# Plot the bar chart\n",
        "plt.bar(value_counts.index, value_counts.values)\n",
        "\n",
        "# Add labels and title\n",
        "plt.xlabel('target')\n",
        "plt.ylabel('Count')\n",
        "plt.title('Bar Plot of target')\n",
        "\n",
        "# Show the plot\n",
        "plt.show()"
      ],
      "metadata": {
        "colab": {
          "base_uri": "https://localhost:8080/",
          "height": 472
        },
        "id": "grngNIchiwEv",
        "outputId": "8d93ce2d-9fe5-4b3a-8f92-b7f6fa0a49d1"
      },
      "execution_count": null,
      "outputs": [
        {
          "output_type": "display_data",
          "data": {
            "text/plain": [
              "<Figure size 640x480 with 1 Axes>"
            ],
            "image/png": "[encoded data removed]"
          },
          "metadata": {}
        }
      ]
    },
    {
      "cell_type": "code",
      "source": [
        "#solve the problem with SMOTE\n",
        "lab=data[\"target\"]\n",
        "smote = SMOTE(sampling_strategy={1: 7000, 0: 7000}, random_state=42)\n",
        "data, lab = smote.fit_resample(data, lab)"
      ],
      "metadata": {
        "colab": {
          "base_uri": "https://localhost:8080/"
        },
        "id": "CMDrT65hi1Dc",
        "outputId": "f89b633a-8b2a-40ca-cbd8-42923391e9da"
      },
      "execution_count": null,
      "outputs": [
        {
          "output_type": "stream",
          "name": "stderr",
          "text": [
            "/usr/local/lib/python3.10/dist-packages/imblearn/utils/_validation.py:313: UserWarning: After over-sampling, the number of samples (7000) in class 1 will be larger than the number of samples in the majority class (class #0 -> 6959)\n",
            "  warnings.warn(\n",
            "/usr/local/lib/python3.10/dist-packages/imblearn/utils/_validation.py:313: UserWarning: After over-sampling, the number of samples (7000) in class 0 will be larger than the number of samples in the majority class (class #0 -> 6959)\n",
            "  warnings.warn(\n"
          ]
        }
      ]
    },
    {
      "cell_type": "code",
      "source": [
        "#verify that the imbalance problem is solved\n",
        "\n",
        "# Count the occurrences of each unique value in the 'Category' column\n",
        "value_counts = data['target'].value_counts()\n",
        "\n",
        "# Plot the bar chart\n",
        "plt.bar(value_counts.index, value_counts.values)\n",
        "\n",
        "# Add labels and title\n",
        "plt.xlabel('target')\n",
        "plt.ylabel('Count')\n",
        "plt.title('Bar Plot of target')\n",
        "\n",
        "# Show the plot\n",
        "plt.show()"
      ],
      "metadata": {
        "colab": {
          "base_uri": "https://localhost:8080/",
          "height": 472
        },
        "id": "0I07rfaDi-yN",
        "outputId": "bf6d33ae-1f2a-435b-fe56-c4fcbb0a4c0f"
      },
      "execution_count": null,
      "outputs": [
        {
          "output_type": "display_data",
          "data": {
            "text/plain": [
              "<Figure size 640x480 with 1 Axes>"
            ],
            "image/png": "[encoded data removed]"
          },
          "metadata": {}
        }
      ]
    },
    {
      "cell_type": "markdown",
      "source": [
        "# Extract features and target variables"
      ],
      "metadata": {
        "id": "AoX4ZmNRj4OM"
      }
    },
    {
      "cell_type": "code",
      "source": [
        "X = data.iloc[:, 4:41]  # Features (columns 4 to 40)\n",
        "y = data['target']   # Target (column 41)"
      ],
      "metadata": {
        "id": "1uRbS0GWjuPk"
      },
      "execution_count": null,
      "outputs": []
    },
    {
      "cell_type": "markdown",
      "source": [
        "\n",
        "# Split the data into training and testing sets"
      ],
      "metadata": {
        "id": "zS2qRahBj7k_"
      }
    },
    {
      "cell_type": "code",
      "source": [
        "X_train, X_test, y_train, y_test = train_test_split(X, y, test_size=0.2, random_state=42)\n"
      ],
      "metadata": {
        "id": "t-Y-8tRwj4zo"
      },
      "execution_count": null,
      "outputs": []
    },
    {
      "cell_type": "markdown",
      "source": [
        "# Scale and normalize the features using Min-Max scaling"
      ],
      "metadata": {
        "id": "EFWwRd9Rj-H2"
      }
    },
    {
      "cell_type": "code",
      "source": [
        "\n",
        "scaler = MinMaxScaler()\n",
        "X_train = scaler.fit_transform(X_train)\n",
        "X_test= scaler.transform(X_test)"
      ],
      "metadata": {
        "id": "8JTEmjgQj8nH"
      },
      "execution_count": null,
      "outputs": []
    },
    {
      "cell_type": "markdown",
      "source": [
        "# Fit and evaluate machine learning models"
      ],
      "metadata": {
        "id": "8EdxsGjtkB_5"
      }
    },
    {
      "cell_type": "markdown",
      "source": [
        "#support vectors machine (SVM)"
      ],
      "metadata": {
        "id": "tggx9WT4kGSf"
      }
    },
    {
      "cell_type": "code",
      "source": [
        "svm_model = SVC()\n",
        "svm_model.fit(X_train, y_train)\n",
        "svm_accuracy = svm_model.score(X_test, y_test)\n",
        "print(f\"SVM Accuracy: {svm_accuracy:.2f}\")\n",
        "# Make predictions on the test set\n",
        "svm_predictions = svm_model.predict(X_test)\n",
        "# Calculate precision, recall, and F1-score for SVM model\n",
        "svm_precision = precision_score(y_test, svm_predictions)\n",
        "svm_recall = recall_score(y_test, svm_predictions)\n",
        "svm_f1 = f1_score(y_test, svm_predictions)\n",
        "print(\"SVM Precision:\", svm_precision)\n",
        "print(\"SVM Recall:\", svm_recall)\n",
        "print(\"SVM F1 Score:\", svm_f1)\n"
      ],
      "metadata": {
        "colab": {
          "base_uri": "https://localhost:8080/"
        },
        "id": "LVBkwuEnklat",
        "outputId": "23803296-494f-488b-dc93-66cf78931e35"
      },
      "execution_count": null,
      "outputs": [
        {
          "output_type": "stream",
          "name": "stdout",
          "text": [
            "SVM Accuracy: 0.96\n",
            "SVM Precision: 0.9657933042212519\n",
            "SVM Recall: 0.9581227436823104\n",
            "SVM F1 Score: 0.9619427328742298\n"
          ]
        }
      ]
    },
    {
      "cell_type": "markdown",
      "source": [
        "# Decision Tree"
      ],
      "metadata": {
        "id": "OxqKFQB9kqNU"
      }
    },
    {
      "cell_type": "code",
      "source": [
        "dt_model = DecisionTreeClassifier()\n",
        "dt_model.fit(X_train, y_train)\n",
        "dt_accuracy = dt_model.score(X_test, y_test)\n",
        "print(f\"Decision Tree Accuracy: {dt_accuracy:.2f}\")\n",
        "# Make predictions on the test set\n",
        "dt_predictions = dt_model.predict(X_test)\n",
        "# Calculate precision, recall, and F1-score for DT model\n",
        "dt_precision = precision_score(y_test, dt_predictions)\n",
        "dt_recall = recall_score(y_test, dt_predictions)\n",
        "dt_f1 = f1_score(y_test, dt_predictions)\n",
        "print(\"\\nDecision Tree Precision:\", dt_precision)\n",
        "print(\"Decision Tree Recall:\", dt_recall)\n",
        "print(\"Decision Tree F1 Score:\", dt_f1)"
      ],
      "metadata": {
        "colab": {
          "base_uri": "https://localhost:8080/"
        },
        "id": "wFyNElZLkqXN",
        "outputId": "feeaac41-ddc6-458b-bc39-ce8d29b6308e"
      },
      "execution_count": null,
      "outputs": [
        {
          "output_type": "stream",
          "name": "stdout",
          "text": [
            "Decision Tree Accuracy: 0.98\n",
            "\n",
            "Decision Tree Precision: 0.9700854700854701\n",
            "Decision Tree Recall: 0.9833935018050541\n",
            "Decision Tree F1 Score: 0.9766941556113303\n"
          ]
        }
      ]
    },
    {
      "cell_type": "markdown",
      "source": [
        "\n",
        "\n",
        "# Random Forest\n"
      ],
      "metadata": {
        "id": "yP56MyraktjW"
      }
    },
    {
      "cell_type": "code",
      "source": [
        "rf_model = RandomForestClassifier()\n",
        "rf_model.fit(X_train, y_train)\n",
        "rf_accuracy = rf_model.score(X_test, y_test)\n",
        "print(f\"Random Forest Accuracy: {rf_accuracy:.2f}\")\n",
        "# Make predictions on the test set\n",
        "rf_predictions = rf_model.predict(X_test)\n",
        "# Calculate precision, recall, and F1-score for RF model\n",
        "rf_precision = precision_score(y_test, rf_predictions)\n",
        "rf_recall = recall_score(y_test, rf_predictions)\n",
        "rf_f1 = f1_score(y_test, rf_predictions)\n",
        "print(\"\\nRandom Forest Precision:\", rf_precision)\n",
        "print(\"Random Forest Recall:\", rf_recall)\n",
        "print(\"Random Forest F1 Score:\", rf_f1)"
      ],
      "metadata": {
        "colab": {
          "base_uri": "https://localhost:8080/"
        },
        "id": "aOpqyLBwkvY5",
        "outputId": "31c04ee6-5be0-45c9-a59b-e90f964b558f"
      },
      "execution_count": null,
      "outputs": [
        {
          "output_type": "stream",
          "name": "stdout",
          "text": [
            "Random Forest Accuracy: 0.99\n",
            "\n",
            "Random Forest Precision: 0.9963636363636363\n",
            "Random Forest Recall: 0.9891696750902527\n",
            "Random Forest F1 Score: 0.9927536231884057\n"
          ]
        }
      ]
    },
    {
      "cell_type": "markdown",
      "source": [
        "\n",
        "# XGBoost"
      ],
      "metadata": {
        "id": "UtTDvfpUkxDe"
      }
    },
    {
      "cell_type": "code",
      "source": [
        "xgb_model = xgb.XGBClassifier()\n",
        "xgb_model.fit(X_train, y_train)\n",
        "xgb_accuracy = xgb_model.score(X_test, y_test)\n",
        "print(f\"XGBoost Accuracy: {xgb_accuracy:.2f}\")\n",
        "# Make predictions on the test set\n",
        "xgboost_predictions = xgb_model.predict(X_test)\n",
        "# Calculate precision, recall, and F1-score for XGboost model\n",
        "xgboost_precision = precision_score(y_test, xgboost_predictions)\n",
        "xgboost_recall = recall_score(y_test, xgboost_predictions)\n",
        "xgboost_f1 = f1_score(y_test, xgboost_predictions)\n",
        "print(\"\\nXGBoost Precision:\", xgboost_precision)\n",
        "print(\"XGBoost Recall:\", xgboost_recall)\n",
        "print(\"XGBoost F1 Score:\", xgboost_f1)"
      ],
      "metadata": {
        "colab": {
          "base_uri": "https://localhost:8080/"
        },
        "id": "1VhtAfW5j_wu",
        "outputId": "d45dd577-b63e-42e2-be09-1740d2090e58"
      },
      "execution_count": null,
      "outputs": [
        {
          "output_type": "stream",
          "name": "stdout",
          "text": [
            "XGBoost Accuracy: 0.99\n",
            "\n",
            "XGBoost Precision: 0.9928005759539237\n",
            "XGBoost Recall: 0.9956678700361011\n",
            "XGBoost F1 Score: 0.9942321557317952\n"
          ]
        }
      ]
    },
    {
      "cell_type": "markdown",
      "source": [
        "#make predictions to detect the normal and anomalous nodes"
      ],
      "metadata": {
        "id": "wp9xxilRndAk"
      }
    },
    {
      "cell_type": "code",
      "source": [
        "# Select the first 30 rows from X_test\n",
        "subset_X_test = X_test[:30]\n",
        "# Make predictions on the subset_X_test using random forest\n",
        "rf_predictions = rf_model.predict(subset_X_test)"
      ],
      "metadata": {
        "id": "eU7CCsBVmVF8"
      },
      "execution_count": null,
      "outputs": []
    },
    {
      "cell_type": "code",
      "source": [
        "import networkx as nx\n",
        "import matplotlib.pyplot as plt\n",
        "\n",
        "# Create a NetworkX graph\n",
        "G = nx.Graph()\n",
        "\n",
        "# Define the dimensions of the grid\n",
        "num_rows = 5\n",
        "num_cols = 6\n",
        "\n",
        "# Create nodes in a grid pattern\n",
        "for row in range(num_rows):\n",
        "    for col in range(num_cols):\n",
        "        node_name = f\"node_{row}_{col}\"\n",
        "        G.add_node(node_name, pos=(col, -row))\n",
        "\n",
        "\n",
        "# Add anomalous and normal nodes based on predictions\n",
        "for i, prediction in enumerate(rf_predictions):\n",
        "    node_name = f\"node_{i // num_cols}_{i % num_cols}\"\n",
        "    G.nodes[node_name]['anomalous'] = prediction == 0\n",
        "\n"
      ],
      "metadata": {
        "id": "86_vSIBcoglE"
      },
      "execution_count": null,
      "outputs": []
    },
    {
      "cell_type": "markdown",
      "source": [
        "# Create layout for the grid"
      ],
      "metadata": {
        "id": "F0qfwT4ip-89"
      }
    },
    {
      "cell_type": "code",
      "source": [
        "\n",
        "pos = {node: (col, -row) for node, (col, row) in nx.get_node_attributes(G, 'pos').items()}\n",
        "\n",
        "# Add edges to connect adjacent nodes in the grid\n",
        "for row in range(num_rows):\n",
        "    for col in range(num_cols):\n",
        "        current_node_name = f\"node_{row}_{col}\"\n",
        "        if row > 0:\n",
        "            neighbor_node_name = f\"node_{row - 1}_{col}\"\n",
        "            G.add_edge(current_node_name, neighbor_node_name)\n",
        "        if col > 0:\n",
        "            neighbor_node_name = f\"node_{row}_{col - 1}\"\n",
        "            G.add_edge(current_node_name, neighbor_node_name)\n",
        "\n"
      ],
      "metadata": {
        "id": "CqbRuWPOp2WW"
      },
      "execution_count": null,
      "outputs": []
    },
    {
      "cell_type": "markdown",
      "source": [
        "# Separate anomalous and normal nodes"
      ],
      "metadata": {
        "id": "_AbOuOzxp9RH"
      }
    },
    {
      "cell_type": "code",
      "source": [
        "\n",
        "anomalous_nodes = [node for node, data in G.nodes(data=True) if data.get('anomalous')]\n",
        "normal_nodes = [node for node in G.nodes() if node not in anomalous_nodes]\n"
      ],
      "metadata": {
        "id": "clrgRa11p2mH"
      },
      "execution_count": null,
      "outputs": []
    },
    {
      "cell_type": "markdown",
      "source": [
        "\n",
        "# Draw the graph"
      ],
      "metadata": {
        "id": "3GLA1mVGp8CD"
      }
    },
    {
      "cell_type": "code",
      "source": [
        "\n",
        "plt.figure(figsize=(10, 6))\n",
        "nx.draw_networkx_nodes(G, pos, nodelist=normal_nodes, node_color='lightblue', node_size=500)\n",
        "nx.draw_networkx_nodes(G, pos, nodelist=anomalous_nodes, node_color='red', node_size=800)\n",
        "nx.draw_networkx_edges(G, pos, edgelist=G.edges(), width=1, alpha=0.7, edge_color='gray')\n",
        "nx.draw_networkx_labels(G, pos, font_size=8)\n",
        "plt.title(\"Network Anomalies Detected\")\n",
        "plt.legend([\"Normal Node\", \"Anomalous Node\"])\n",
        "plt.axis('off')  # Turn off the axis\n",
        "\n",
        "# Display the graph\n",
        "plt.show()\n"
      ],
      "metadata": {
        "colab": {
          "base_uri": "https://localhost:8080/",
          "height": 521
        },
        "id": "DUH37-dmp6oG",
        "outputId": "02e2b06d-d3bd-4d7c-f973-cacf86b5d0d2"
      },
      "execution_count": null,
      "outputs": [
        {
          "output_type": "display_data",
          "data": {
            "text/plain": [
              "<Figure size 1000x600 with 1 Axes>"
            ],
            "image/png": "[encoded data removed]"
          },
          "metadata": {}
        }
      ]
    },
    {
      "cell_type": "markdown",
      "source": [
        "#for real time presentation as Smart cities scenario"
      ],
      "metadata": {
        "id": "GzeyIDRnpKYi"
      }
    },
    {
      "cell_type": "code",
      "source": [
        "import networkx as nx\n",
        "import matplotlib.pyplot as plt\n",
        "from matplotlib.animation import FuncAnimation\n",
        "from IPython.display import HTML\n",
        "\n",
        "# Create a NetworkX graph\n",
        "G = nx.Graph()\n",
        "\n",
        "# Add nodes and edges to represent your network in a grid pattern\n",
        "num_rows = 6\n",
        "num_cols = 5\n",
        "\n",
        "for row in range(num_rows):\n",
        "    for col in range(num_cols):\n",
        "        node_name = f\"router_{row}_{col}\"\n",
        "        G.add_node(node_name)\n",
        "        if row > 0:\n",
        "            G.add_edge(node_name, f\"router_{row-1}_{col}\")\n",
        "        if col > 0:\n",
        "            G.add_edge(node_name, f\"router_{row}_{col-1}\")\n",
        "\n"
      ],
      "metadata": {
        "id": "r-o4M2E2pAFf"
      },
      "execution_count": null,
      "outputs": []
    },
    {
      "cell_type": "markdown",
      "source": [
        "# Define random anomalous nodes for just presentation"
      ],
      "metadata": {
        "id": "zAKny2weqUcW"
      }
    },
    {
      "cell_type": "code",
      "source": [
        "anomalous_nodes = [\"router_2_2\", \"router_2_3\", \"router_3_3\", \"router_4_2\", \"router_4_3\", \"router_1_1\", \"router_0_0\", \"router_5_4\"]\n",
        "\n",
        "# Ensure that all anomalous nodes are added to the graph\n",
        "for node in anomalous_nodes:\n",
        "    if not G.has_node(node):\n",
        "        G.add_node(node)\n",
        "\n",
        "# Create a layout for the graph\n",
        "pos = nx.kamada_kawai_layout(G)\n",
        "\n",
        "# Create a list of frames to animate anomalous nodes\n",
        "frames = []\n",
        "num_frames = min(10, len(anomalous_nodes))\n",
        "for i in range(num_frames):\n",
        "    frame = []\n",
        "    for j in range(i + 1):\n",
        "        frame.append(anomalous_nodes[j])\n",
        "    frames.append(frame)\n",
        "\n",
        "\n"
      ],
      "metadata": {
        "id": "cQC7_ng-pcWu"
      },
      "execution_count": null,
      "outputs": []
    },
    {
      "cell_type": "code",
      "source": [
        "# Create an initial plot\n",
        "fig, ax = plt.subplots()\n",
        "plt.title(\"Network Anomalies Detected\")\n",
        "# Function to update the graph for each frame of the animation\n",
        "def update(frame):\n",
        "    ax.clear()\n",
        "\n",
        "    # Draw normal nodes and edges\n",
        "    nx.draw(G, pos, with_labels=True, node_color='lightblue', node_size=500, font_size=8, ax=ax)\n",
        "    nx.draw_networkx_edges(G, pos, edgelist=G.edges(), width=1, alpha=0.7, ax=ax)\n",
        "\n",
        "    # Highlight anomalous nodes for this frame\n",
        "    nx.draw_networkx_nodes(G, pos, nodelist=frames[frame], node_color='red', node_size=800, ax=ax)\n",
        "\n",
        "    # Add labels for the frame number\n",
        "    ax.text(0.05, 0.95, f'Frame: {frame + 1}', transform=ax.transAxes)\n",
        "\n",
        "# Create the animation\n",
        "ani = FuncAnimation(fig, update, frames=num_frames, repeat=False)\n",
        "HTML(ani.to_html5_video())\n"
      ],
      "metadata": {
        "colab": {
          "base_uri": "https://localhost:8080/",
          "height": 891
        },
        "id": "CyToR2LFqPqw",
        "outputId": "e8ebff22-60aa-4ac5-eac3-cbe53d9a84de"
      },
      "execution_count": null,
      "outputs": [
        {
          "output_type": "execute_result",
          "data": {
            "text/plain": [
              "<IPython.core.display.HTML object>"
            ],
            "text/html": [
              "<video width=\"640\" height=\"480\" controls autoplay>\n",
              "  <source type=\"video/mp4\" src=\"data:video/mp4;base64,AAAAIGZ0eXBNNFYgAAACAE00ViBpc29taXNvMmF2YzEAAAAIZnJlZQAAdYJtZGF0AAACrQYF//+p\n",
              "3EXpvebZSLeWLNgg2SPu73gyNjQgLSBjb3JlIDE2MyByMzA2MCA1ZGI2YWE2IC0gSC4yNjQvTVBF\n",
              "Ry00IEFWQyBjb2RlYyAtIENvcHlsZWZ0IDIwMDMtMjAyMSAtIGh0dHA6Ly93d3cudmlkZW9sYW4u\n",
              "b3JnL3gyNjQuaHRtbCAtIG9wdGlvbnM6IGNhYmFjPTEgcmVmPTMgZGVibG9jaz0xOjA6MCBhbmFs\n",
              "eXNlPTB4MzoweDExMyBtZT1oZXggc3VibWU9NyBwc3k9MSBwc3lfcmQ9MS4wMDowLjAwIG1peGVk\n",
              "X3JlZj0xIG1lX3JhbmdlPTE2IGNocm9tYV9tZT0xIHRyZWxsaXM9MSA4eDhkY3Q9MSBjcW09MCBk\n",
              "ZWFkem9uZT0yMSwxMSBmYXN0X3Bza2lwPTEgY2hyb21hX3FwX29mZnNldD0tMiB0aHJlYWRzPTMg\n",
              "bG9va2FoZWFkX3RocmVhZHM9MSBzbGljZWRfdGhyZWFkcz0wIG5yPTAgZGVjaW1hdGU9MSBpbnRl\n",
              "cmxhY2VkPTAgYmx1cmF5X2NvbXBhdD0wIGNvbnN0cmFpbmVkX2ludHJhPTAgYmZyYW1lcz0zIGJf\n",
              "cHlyYW1pZD0yIGJfYWRhcHQ9MSBiX2JpYXM9MCBkaXJlY3Q9MSB3ZWlnaHRiPTEgb3Blbl9nb3A9\n",
              "MCB3ZWlnaHRwPTIga2V5aW50PTI1MCBrZXlpbnRfbWluPTUgc2NlbmVjdXQ9NDAgaW50cmFfcmVm\n",
              "cmVzaD0wIHJjX2xvb2thaGVhZD00MCByYz1jcmYgbWJ0cmVlPTEgY3JmPTIzLjAgcWNvbXA9MC42\n",
              "MCBxcG1pbj0wIHFwbWF4PTY5IHFwc3RlcD00IGlwX3JhdGlvPTEuNDAgYXE9MToxLjAwAIAAAFmt\n",
              "ZYiEABP//vexj4FNyAANlzqKeh/hFbH0kFF6sdmgZOoAAAMAAAMAAAMCKBe14pAwmV514AAAGTAD\n",
              "KhQTYsqJ/J+4ABnAz8EVWfbIO+Kdi3Ya/UXVNpaahyv9tFdId2v5V2Pcmh/bTihU7xrBlv0VsAUl\n",
              "qSfWs0H0Z/h3hr3kcWPXPFTP45l5IzXqz1hNAIH6VnWqJNxYKIrQL4BxXgp/YNFmEYHn8dGnoWvr\n",
              "a2VbpDHA9U/3rDWVeaWlzbyLP2XyZpZWD1b7bRy4Yqb+KeURC8FY0qFkozBDVF1EBMDyp+kgNiRo\n",
              "SipVDgD7fK4F9w9JbMcImjxyhnX2JdBrIqkeZN9UIP+j3CarHdizLCWzncw7s4ZAk22wEK/lrllP\n",
              "Sz1SW/Q0k9jjLQh21SIQ9fZh+QHARlNRI4ZiM4CIj42okbuTNwGN+adI4yS2wkH3yB500UQmk3jO\n",
              "MOWPZ5wYFnbYeyNB41r/i6OoK+uoZB+pf3aZ1hkB5saUrOKCz3g81N/9IENH6hwYJ8vqOo4DvlhM\n",
              "QnfH88mrPLNKBbJakqBxMdWYzYRGAKuOLwvSvUnuGOXZza+I7gOd8tzU6JFhmF82K+k2Hkpg7F0E\n",
              "nv0CIt2zyiVZ1uPdzQebgnG/Zv1CYcoDASf2lbm3rkP8kfv4lnyecG5LwNgEHRYE08bVefAJyFlz\n",
              "zwo3GkdU8k1RZ2XT9rFlak/cZ2Frvh0pUSBRVQZ7W7x77YDBDmr3LhwgiHRaSVPNfxPs4hylcnxG\n",
              "iatJWueqx0gWCs7269bSOQjJ3e+yU/E25ms8YGD0SoVQpVJ3sPXZrvuRWM3zGh9TSAToHjvXK4mu\n",
              "7zBtsDG03RitRn3TtMoLuKNBzOCnFTrXslZ701xe134bFE/bTzT/KFJeJ8+9A9DUGo5GU4R+LOpD\n",
              "XHe51c/9Ye8tz2rN3lGaNToomdsW6I4+mPejXxXLnHH9PxuubiWufZS0VM7UrdlS4Y4EnPHhX+og\n",
              "cXm7YwvGPZlp2BDLk+Cy5rfKVi1gq3cQN7ZVoqB/wACWry6LSaTXJZkbE9CslfOVaNH/AwPrK8p+\n",
              "eqhbU3I5h9bigJtPu63wwjkCMZX9/6Lc2chlGInTcXW+qgeT/LnN+q+PBIa9QXfFEKe/bDVM0U9n\n",
              "QLvrt2p2d6/PvrNldk3Kfr9X326Ur2FMmABawAnRnwL7QF6v/uJSOeuK2eYTWGj2vYxObcJ9JteK\n",
              "8oWLSz7xmEFutWYbwMNxqko6pXZvf0/+SQMO2BE6oOdNLjtj3pKzoAw+8X68u9mduotbnhVxOx1M\n",
              "w+34vOxBTVVbCStigfCX+muT7C5UxRvl8gsEi1zVd/V5wqPJIQAnGnZKMhy7XNvx15TWeNIkSxXs\n",
              "yUXPIcTrjObBg994IHmuXsH/7CmT/KbvEvTwH+h6rmu8blC7++W1lm8eM53ihtq/PgQ+l9W7fsCC\n",
              "ym448hvNprHfoRNwvNldkGCZsOrzvbb9iDPSig6lxE1gGQjIPRejpXnQHfp8qaV1KMurK07bvOG3\n",
              "OMBIGEsSshGehjn5ogQfw4/j0jQ1nyKJsfjAsI0lkQGdQTKgLqn0MbpcmsXbwW8gPK2tcUBua/Bs\n",
              "gkvf0xE4PoyKQ7Ih173ZiNHaTWW6FvfEI1mQAnzfxpXnEsu6OPABxwGohSsme+AEeO+/oUhY0F+7\n",
              "vpzJDi61y58VhntJcIq+LzMQaKQHz+bnekhAb2r+E2yIcooh/SouUpys7YKV4x/hEh2vK0YZd9fG\n",
              "ME38tv+LnpLtqH1h5mbcrs4yFUBrg25WiuZsqjPfN479LEGYhZDfv/yuR5DmX/xjshQCjPDDWyu4\n",
              "knIl41TbAzemnPRTiAAkcbvRSvHh9XO+g0LHR46vhMZALnliLKSXzGEMCZ0hczXLeFgt/0wTcnWr\n",
              "8oIG12I79vEQkm10s9gFg5pc5LQlbM274waIcCbG7O2lchEvB1EJlsYC5fBNEu+1r1iquzDvSYWU\n",
              "8PLD7tIPHAnbDNWP0V/JQ1JZ2Iep+41QJ+rj8wxmRDsn3Skaq0jkz4YhIBPspBIdxAXVTBLh3PvX\n",
              "scSbaeSkKxZk8YVk0FY2panPSYHLrH87ybSEe57acUltMh3qsNH1gB50UJZwTJj+F1OLjQ7n8+Rr\n",
              "vcDhd32/zkwMTAarCDO4uDnBzlhPhmM2e6VuVW7I3AZ0OUfIgb9FtkEiuf9D9oWQvlpMWNYaTzJa\n",
              "UVY0AuZPHq25jDYhzQ77V/Gz6gxFBgGwI044ZX3P14Tvi/xbJSiU9pRpArBVcujcRsta2nst7t9b\n",
              "80My+L/B3dTvQHdlDrI4c85I4cwLwRNznPOxJMhPAMl+8RxJbcvIc7gaBkBF/lx44JYXWbGC1Ni1\n",
              "it+pqbE1a6ga/rMcrlKBmKlbu62CSlQEvPz2InDubf9I/Ja0RnDD9j6XxrcqEHcfKdh/RMExe9pO\n",
              "yMRqW55SDpViN6MXv2PeoknH8FXy7CbQNftM7u+trBJPJqtBbtWoI5XMIgo+mWxOM6z1hRqtsKF0\n",
              "4WRSGFxcxa/H14f1gStAP6sRAUAKsPEOsasbJG8q6RUD6zZwl50qJE9GktkyUIO1kxi64vq1vDow\n",
              "nKsV4k4zzuVCbGASWkKKnSVHS5PG8hCyMtV4zNzezry4HkSCf/v3HUocXM3vqRbjI9gXsFUY/f+1\n",
              "sIAdoIKpls+iuRPliNDAtQSWKa1DCgnFHNJVv5vLpNFFUKR7lRq76hX7c+hEhWflfEqhh7ngfrPO\n",
              "fKJ/erI+ob1B46UZREogIe82Y+fJ5hDrF7dSKjy0uS32Pe6frWy+++nqFUg8wCTVKWXceTjHI5Gs\n",
              "Xn/XU2F0kIcpBLoKCgvaRbV79tq+xjlxR4CQDiu88tQ6caMy9nrZi7QDeoGEVo2/ax06fJ2jT2LB\n",
              "9NkMMua4WGxNIqkxLqCByIpnOVuSTIMhNI5GeEzljxlNcGaev5cL2tlTBjb2hUPWkMMiZgQ0Sip4\n",
              "s2kmTTyx9HsXnjDa552xVqkxmkZUHWnDuldoSnXLAjaw0F666cDk21opWTFWGRxhw3m/9jIun8s7\n",
              "dK4gIcKPDWTPrs307L35fvAIQFKM4HxmJsAlg84RKjkHUTClCl9+wn+5FuuubVfe42WtKWUnFnzD\n",
              "/mgm7rx+qeu+cK230bEC+TdCsGjhqt662afhP8rrKIVTOaAuDS5lJ/2Mju6bJIYt9Fg+4bg74yjI\n",
              "Jdi9zRsi0sTuk23c6w2dwuIxMWeRWLc+TDYDYA19Ff5UZskCK2c+95qZaofDOZnc3qeilGuZzrQK\n",
              "dxz3kxpSV5yNQnmW+nmGxIzQ+7KfVE6lT+m9Odzfmk7xS/FssXEc7bFA19D7xv0gykdnK6giLmKb\n",
              "/R8zrQUK45GCvJIB7OSQ7n/ZCNa2xvTRylg+KZdMscc+HgHAX+KY/dF7XXjTcNeb4295qjXuP3mH\n",
              "L2Kn2rQexNL1sZIPv1OHW0t/zhWG5T9BB4Q3U4CWEUoF4hdtE7blMZzlNfBJ46mcMHHqlE0LL87+\n",
              "xGRteEK0QSVlACY/V2xCcgmnRvBjaRimAhy8eEAEj60LcEZ6LHowCOJOa4KhnxFf8g9r7brBAqn8\n",
              "GT0WHS/wGZyw7vIz9uxAFIca2MmHR7RSHAyVDWOKcuKlNmQTNTRQfxQuDERbq0v1gx9X54tos7Sc\n",
              "CskrnBLsmRw3QrnIPtbX3wx6Re00DVXbpi3K233noEM5bIUyKaLJX8utFSCWAxcpUh6UzfNT+al+\n",
              "NZzNlqGWHpGxeXRgaNrEReYcR0yhRWvwYh0Cszi8ASByhZjvonn+rdnABFYDHwwk2hm8F54kcTqJ\n",
              "9IYrDSkb3KCXa7Y7JemTnw6EXc/TpZn8VKA7OBu37P8e8YwjY11twM3gN4ZpRefCEqx04gR+C+w0\n",
              "wofW1TE0yJr1ISQzKFU4DQ3B7cPLeerySsLRScTZykWQFKMAKcmPGpg0ixjrGibKwqeJYiRPegj7\n",
              "A/+553mRWwuUX7hPonLEA+vZ3JiD7y/0rR2HajUCZAFn8YEBJObJ+r20oDvkT+YqSgVOlvNlcaT6\n",
              "vTtvsnp04JjubHzGTmiNyCGeZXBjfZz2kwtOtyhX2KXO4L50759ybnhCXShVfUDjl65aau0NXbPM\n",
              "ewAwC3BZR1OSCPs1gR/kamFPPryGJ21FYSRNJ68atPWt/oVQM7ctD7Mu3Pnqs2VT6oEEqCb5dAyZ\n",
              "pv5uqOz/e0DZ/M0J2OYEymtRunVTAV/mQiuKgC8lyNdD7SwuRdvui9LInOz0TzG6fmgVYOs/wgB1\n",
              "JqfDLzNuy2fWwdgCunG8SDzxOsDMWSbGMbCdV49m2rPROgxgR92zoZSCbkH4T4hTyU8tEFIjs7oY\n",
              "gwRzFrf+LSbuzP/cNXgfBhERbhM3AWfetw22l7r2/iQ/jld8G6WJwXwKyXkS6UkTYmn2q9SDf/VK\n",
              "QXh3Xz9cWKRThv3TGMRhNH92C7JLVOpa7W5VZrwgYrdWa/gKlDQkFQjEiDNXO38HM+ExJe/WrK4I\n",
              "KiQZXDsZJU+tLNQgM9eGZvCnrakTuceLkHcqihqWZzKJEDfaXKO37TJp8vU7scHVTSxqsLfSKVS4\n",
              "TcRXRQyUEawC5dSZlmN2k7IH5u2dfFJd2UrOUPipDTKg4QshPEGjw9AbKvzge5nr0eVzgvQqs75w\n",
              "gvquVq4qlaVnit2LawPXe1IlIwjtEcuZW78NkqqvtrC3Hkqk5ZfupE3T9UL78rKHf64rmMx0mEKA\n",
              "kNa+z3RbrMv9mPakuCDOx1aBxMbBQYZfU1ACIzMuv3QioSqRRISI1C7DUCt/1mSf6ayKMgBjiYIK\n",
              "jfTl+7VbCOzi809fEFIWRZKGNOYX7PVE2gjLR37ETQ2M8pSyn02clGdE6c2ayQFTVbLyy+Bg09Ws\n",
              "qeQ3QAk52CE6e0OZpTUQiVaDTUabkF6sq38m0cdaOhiKSl9yHzoCaZBveH4x5L3fSrh0JiMh19/G\n",
              "WMxIrhuX7kRr5m5SCP9GeQtDtdioZ4vRUkGynyN8+SB9tE4taolkymuDa8+uxoAjbixdtwDqrxYM\n",
              "0X/VIJG+F9qe05DgV9wD74SBPbCAdTv6kmtTtQ6POVMiUc3fHBLa4/crOtc1WQdeQCqPDU1496sR\n",
              "2nKVq3aZTQOc5BvRVhWEf12JDBoZ0OxYMr554fl+LU6sGrzY81lwHH1fQLvDyPOThCFKqM3D+LT9\n",
              "4afaY6DK6JpLCvjBqer0M78IJu8ACt21/2l+sjr+OybKIhnL+arpyIpdgnbJid+B1ilxk8mVtATX\n",
              "lAZeOKPlcS+GoyIrRnux2ttfP3E5v27SzCN5zBUlVEwx+AV0JM8scyNpwYS9e5LZ4n8Ryt04nCAA\n",
              "BPWY1LVtE1cQVplJfr5+w2NpiO5d2jyhH0JTjzoI//xZNCDHrJ9MqwaBiSdcL6z5fhgYAQsQOAgM\n",
              "oMmGGt9xIULUduDpiTx1ZtwJLVRJ5uXaoeJLYibJdnTDueCf/PqFDnuYS87m6PAF2GjCDYg9dOLs\n",
              "X7itduiM6w9zTQolCaJKZwotsb/+x4JjNlU/OBw0aWY26scfS0ueyPFc/8MFLfutBScoZV1NyQRc\n",
              "ke92OTWGlN9nti/9s8Hd0Z7c2+3T4C7OZ9WYV7l2e/bbvKgbxZn2MzLCzCYgdVj9COHMSx7XJNlp\n",
              "PxhdTWRsLciSoPsF85UQmoyLk4KlHMF/cS5uALfBvSGe6uCP0xryDPtEa+ECzARo60I5zxn/jCHg\n",
              "RY/2pSgixS9wbZr3Ez7nHVhZQXl9Fwh2Mb3BexSkith4VDj8AmVGdOhkpOSbWpA/kC0bSOHxt0S7\n",
              "t/F0vKgnsVzu88n350vanHhYXJU7YBC6hHluCuKWAhhhf+iAsYPkSNQz4Rp/mrPPQzAzP7y9sQT4\n",
              "eVDqPNrrDgjmQxLTnPe97NCtOmTPiu8Y2n9PfNhrfplYantsomWx4NTSoHi8By1Odq38AQaBuF71\n",
              "jQZOLGQWm7OovhhdJxRlI//bCdXgaZPW3HLV28Nb4J9VDPt7GHf/6dHWVGbNtwHoZDuC3vy1d0zB\n",
              "qtw2uB9cZ/93v4dROMHyLTYrv7nPw+Jv4YwlAQbhztLmH6I1E7QF+7jZSkbHXOTAUmESnF7A59ri\n",
              "X2N3IAEPwyvBhADJCWCkmKIUXm5ntaRdjsYRX1N+ig7H/ctpygkDgjXw+yrEbG+475lxU77oihKJ\n",
              "WFcc3X4ZL5wvR7F4fT5JlRzCBIP59bbXbgY+OG1JhhX0ATvC9qdDK8BWIcv2NbDUCKet2tsMYXCE\n",
              "YShvuOObUyTrotLvbVpV9/n1XmAyjyzk9oDdUhoP5b0L2P8ah3Bbe/7bfPdt9aTjbzElH/+x1r4N\n",
              "QsCZK8pI6x9AeUcosjcamBDfnvz0kVf1l3uRRt2Qw1JhoL2U4kUEkgHe2RXx+i8zjhj0vaxWWmHA\n",
              "sMEY9LQ3k3L7A1NBhXxlvYdaBQcl33hAn/3ftGCj8sLCPA76vIVBknzdQlvShtDIIODhbaHySxSh\n",
              "OU+QnOH616rPVLWtb2OnBZRwSJGQNWVPsuPheDpVjuXkUX+WwZ7h+4PETv3wBSbKFJrhegD11mhj\n",
              "ECTo8/aq8QoJyMaHVk7PcRuYgUmux0PtElaz+6+IgXJlE/Acnpb+o+7mSwDg9WyBV0C6ykzj0fMA\n",
              "/EppjsHkpvlVKkJDywZ23ZFPkaIuPVOnHCHkFZDQ10EzTeUHcYd5/SagTMqaGQbdtLs7ZAc4hkp7\n",
              "7qAK7MIci06HmuXZaXwg5wWjhYpLJifpSVlu0P1dUdIL2chNOkpNjtiuY99m2S5B9eVXFoCz5zFL\n",
              "2R0uubMAjqTg5oMh1prtjHenysfww/Ps4LSccGpoa+qL5X/iyYMHzP+HOQHcxu/XzqpPemVWLrgL\n",
              "9KMZPMEf5ulCIn0ojPvkCXOCSJFaI3qq45OZxbUmXQ8GnYazBEQjGmzu3tTuEw+ZFCtj+HIbENwh\n",
              "VxMc8ZdTBW6MhyVhwvLPqgWSfAHM85cqn0IXpKbCqcTY/cFvTXaESY6U0xauZTUc++2MsSQGfIlH\n",
              "ZDzslSbllPtv6U5NAWsN4Q5GW0rZ8EaZnMVkEf5QAtAkTeWr35hl2MfFDbqRtmr+li2q0VST9Wo/\n",
              "Au0klOieztu71Hvvp4nnh++fxDmu3EXYloyBljyTIQ2a25B4uYk77N009Gy0oJBVv/lrYMfx+N+h\n",
              "HoOkswvZ8eV3BCcaj0YJcAbbD9eJ9zgXOOt6GZphYab1sKMNgk4e2c0fZI2ygtdAlEy3k/Wbal/Q\n",
              "j7IZzUA+YiKrm1+UZL1nsY7YsfhQ1sRe+Dra6ChqrF8IBvAz8lTmj5ijlJW1KDE5v/NKwO296IYa\n",
              "9OU08o05nF2lRSrCSM7ICw98jpsxoNdG2dIdqkXnYx+Ca3bRVoZD2MA8EzkmAWPVf755pC9ZaUf/\n",
              "96x9K88K6dxF3DNywD2Y1Kv1l5dLy9ZAG+ZfdLzi0w6urryl35YGCob7Me1UsLBFzeklz36Q5kaw\n",
              "BZSREW8171nByDfPwWPeXFrCzUDDrotPQ8sKgxuAb7Gt25QHSlCPBUtQpdFHYaIjs2lAqyJHr/+X\n",
              "xeO+x95rlRUT98KaFtLu395kRRXKtuhVp54w2sJTMTPhKH/cKhtPJl9QwYqLkF2sywdDWlDxrYqJ\n",
              "ty5ptAbAwJC3ot0CsXH4KK9gKQLS8tYpriiO8tmgcdkmJFT9jjyE/wQPvq6VbAfiajBel628hS7m\n",
              "+NELQBO1B5GIrycmVpiyi/hAbM34K4Q7LJra7Y5LhABf1JDvH/TWOBte5ItOYisL+p/+f3kvMDsq\n",
              "qCwHFycEKJzCvnGF0eI035esQFJU2S5Z2klvpt2nYM5oAQAdNMjH0RvqWVyYLqijIbT+mbYYhJrv\n",
              "b8mFpmYnyk1ip250fsCgpW1K/xXm9DgD1WJKs++AS4Lu2bJNj1MvzUxnSxNl7c9s3xfQQEsIvNK9\n",
              "JDWphbml1M6rVUgBAmO3ijtkOPPi4e+4/IbFfxBRpdIYCU1M0TW4rz7Ye3JoQKJ1uM/Pv0S7n+JK\n",
              "yX4T1t7arpSztYs714xt9eR9WXmpzPfV8bqqrJlnBzGN+gyqD5sS2xA83vFLkr8OkYJ//z6ILv1m\n",
              "p7edDmUTDlJLjKexiNkVxwi1lYvU5lhE9rA3+tBEucEe/UlL3d5NORDQ/qxTNkpmOeEqJBpgeS/f\n",
              "PMsuPPjdx2ahNhEXifo3ud0v7KsMJLACn3gSA2q9zOauKq5EvTiNGQCMxQ/cNqewHeEpZDtnq3ho\n",
              "HAo+en5q1nvpyy6aWO42fnuLlWIvNN1+sdgbOXLaD3/gU3Id4GADR/yKpRlzbW9G+lFpOgWZngKH\n",
              "zrbBCG1kGmLs9vXk4aX1DaWkdK4ELsHu7eks7rHtvJ26dzOxJ1IAypXASws6z2d/mc0OAzxYIJCH\n",
              "DAYR4uSul7cKe3yjWXet2xg1TSXkYha7bq2oFt8TN14RGwVu/6OU9ThVjKM+bWtOuUirYeXnz7iP\n",
              "s7YHeBEuD2ZKJD68ErSMex0Bli3/hnbnjwYsGjeKjr4DTbOrrttXh0LYZo+0Ehc6R8qgz3Lu4gTy\n",
              "2njEH0L+R0S2e42iAEgQ+G3YHJOhXQsAMJZCG4l5egg8aF6hpQmULybyYURQOxmckv0OLbElZYXy\n",
              "SEiF+9c3sZAPEEv2XVdmjKKNYj8ZaD4lZ4ky5twRVM1QJeMVBo3+tAOtilBjhJWRTUK3jWtHNlDz\n",
              "CPhgYIK1b+ixBpaSVrSmrcbCbfwxI5jm5ZeCodkCVh8lUftxo8NQyJlRx39PvKGNNfQERdQhIFOO\n",
              "ArEpMdYo2ssIPi0iS7E1VympSu8OVoTFLVxlnm3oPZ3sR/+vmSLnJpN8nBGZUYQL926jBiJOlnFF\n",
              "EkWq1tX57koXx2WLi4mKlFAM9Q/R7dpD3IQvV3kw14YS5/t4ceZwhHB51HOITXx5+bRhFPG2+jbZ\n",
              "vaU0rnsktXYPt5El7rIhjMO0cOMqguE0dz1pafCsK3u+eybjrMsnI4RofRrkFifZgbzSOGiKBCj7\n",
              "Vb69Rhw0DnQgehNqH8FwvHmqpkbO3oCwmdqvZUQ9/BGoZU9JfvwqMT/35aAScSGebpla2wNJzPpU\n",
              "mkPljv2Sg8BHOVSvFyb1iS6M1+UPZPWMc9KLcRvWEau0z+1vxUwvTrWw4BxwaWNLkyCna73U+of+\n",
              "REx1yudad4/rLDnyLyvdZK1fJXo+rvR60+wJV53gBoyLxM54QlGKkUi5jjydV87M2uh0fK4S+hl3\n",
              "lbHfSQt/PNPsU7IkAtM+8wbrywv4Q5oPI4lbIPpP/SEemVBchGrKS0VUZl71/uyiVqoXV2ZAYTOF\n",
              "brxr5BH+euY1ZquD2iBumunA4YrOuIqDcVHIDInRUHZolkYchtznpbe7VczWCmPvhQMOnvOyT6rG\n",
              "2lr1UhH65qgCk25BEGPEbX5MGBvyXjfWvoa4/7kMlZfPFE+1K2d4IRQNKyGlIXn/IpCBoNsB62Xu\n",
              "2S71LfyA8r01dqe7eQYsQ034w/SUh1O/ZF58wK0epRWKGV88iZiB6AHLGfiPULqiCZ9gBvOVzH6N\n",
              "bnc1I5LLcvILkUzjmFd8cXWlHezpQ8nvkKBcI8uZFGM2v7dP9fYaSdV7LF0uzw4tT60jveHZOS3q\n",
              "BTLoVqxEdgkpJKw+faVM8agC7WflJ0jLjNTXEETmjwyWdGzhnZwFOxtZqwdfVsCU0y1XF0OKs8by\n",
              "b8ae5mLxFwMsLvzfdNq/3gJCfMJxHsN3BhqmfkID2g3LMg6sO0BPfKTsSkQwMwcHdLSVQPLbcU1r\n",
              "DMsU3TfN1SZOxsMyIkmTyNdIaFGimvIftErr6m/uOT/Vls4YRUTJYMt3tov9rxzEQ7ePomdJuG8o\n",
              "k5SnYGl199C+LiTOX0y4vu6chWtEHqxNxZ45b6gYbU1OLbBLNn6DY57FEH9PuXzYNyWobu/22MMz\n",
              "67VHfGD7aNUs2xbX0V0sxhdgtybav9rlmJzwz0uMc+ZqVboxxPbfKUtxrlpn1HfrOC1ZYJkOUz8S\n",
              "iDHuVIynFQ4nykRfRPei61vnChHMiMfJCF1RhIBkAKqrwBPYUqeJ5s9VDlcnb2u2l+6G0N+FYnY5\n",
              "LDfKFwseZOt8v0va7wGsvQnWjTGrxHSA7J1eGELO0iZ+mOaDjYuJsxfaG5CCu0G6ns2A51DtYrLb\n",
              "hwOT/pcg7M+l+IlTmeGLVYG5XmVyv3rev2rMe6nh4vg4xOkZJle3XZXB7pq3IvEU93PJw4FykcWg\n",
              "2tJCK1OYrD0O5DyUaNQwEWxyfJbr6gkxiqyVZqkeD26crqYofEksiQFdNBBGa6uPYMQocJSnBo6o\n",
              "4Sw/JhAoIltrdCzT/yAKuPuxafToAWJ8c9ccvxPyEMHatf0AC3ZWFhhnaits+SX7N3KFsudiQ1jg\n",
              "zN0BlYG2g54azaxhFvIrxm0zf5hgSbSdfIoqwxy7sIFxRr8MNi890yPa8QF9XTplytG3LwCvzz7B\n",
              "p1j8jOeSNfmEgSnFLF4xtTWNTf5MX0xFF9CqnzbpEEgC+D7xKWNJTePvsqMl2SSS4EBO8L3vaQyF\n",
              "AlonDCpdCZW7YTLN/CpPaxcgmcL1tAkEceedjdF7rOOf0CG98++TJ1jnr2ofpwuK8GvF04yxnXL6\n",
              "uYdxuGpg7UppJsnkKflvvH8a/WXZtsArvU9juljXrI/FyQEM8w4+REHIMEeYVVnRjFP3IP3OXeLf\n",
              "3Ryo2gNbLY+jksKYrpigaE6OD2OBgV1qGtlKCwjhBGh0oSbjLzwnM5h5UUXcrS1+1brN5JaqvZcu\n",
              "x/CqA17M4//nN2X1xPoIRT9Kth4M2ccDwKMs1UiDoY5RWVI39KCewBpnS28npRabdvS5VwxUbC/r\n",
              "CNmCSVXvrY5w8Eet52FkkNUy0C7DWTzysrt2kHeGz8SV7UxxxdEACHGI4uxb/JP27qiD/GRbSvfB\n",
              "Mnz9gDPqJJHCUBGUFUZRUb44z/5pguTGdx/IHE8d2iiVtyR4/HR/nX8YfEw5sRPhD7LcuvZR0L2s\n",
              "aOAEtU5w72kHgkyRa6Em0qe8zrTHB+8ylx3Ru3xY/avAQQPbFuPr8lVgbf7NkusBaARrH4rL8yQu\n",
              "GAkD4xwk90lBQFBkBIm7yErDWaJVryisLrVm3VnXTLLGQNg9sjCPJc0k8Gfsr1TUQcPQhITgdgjN\n",
              "sQzZSv8XWpyvKfBc/6rm+SuPfwjafPnc1chlFpnegmWtfmHHhEFmCk1czevGDIuPCVIH7CvwHrHP\n",
              "NWDr/ywENdK4JEI1RoY73K+3K0TjYOst6PNDjv9amlPsuwoEaw/O6lzPR7y4M9iG+xXa59uMJ1cs\n",
              "kZYEOtkbTWh0hUGJB4w/xThZphadEy0vUas6OWT9xAuYSErLf59jJfpzEi7Cibr9gsGk8jyxDRPs\n",
              "1NMQ2T22dJP7O4U9ZUDH8E9ioCbkWGhFKiu1QWwP8EzqSDU6J2zGBJAXFNicLpIJ3jllfjKEGUga\n",
              "R+EI5qcnaxOAUeJGC+O8/NN8Ifv3O9qhE1+sinoVbdlg5IijuiWsKAwG5GMBrEl+zIuOsUiwKcta\n",
              "HXJrWn+5KMQ9aqCQUPqnXD05gB3npiRp+VP3uecXUYrr2VWoBtwMf1vPLMyGiJFIK73jlI+y/FfP\n",
              "gxaz/UmmcNj90jwfjmMCBfzgvaddsiV+of2SlMvJ4DRwYhKVUB8OWlFxU78pp6v6qlhd98QL9wbh\n",
              "tTMXd/W4mxBkFbcsYdvWxbNzg+Dx9UFOgF0aqquhTUe3ttyoBDOZ8bJjqE3SP8OvNWeW33gMSlL9\n",
              "xFatEBfmg1udSZ4GjiKCfDJ1JaSqmHDPeLeXd9wQFkn6GskN0lFuqfqDn/hLsfn/axM72uAP3p35\n",
              "+kQS0sMoFWwttc8c/DXF9vc3wGzPGC+EYaRir9Q9XyXi1ATg19TtT6YKo/5u+tGsKf1LydPEdrAB\n",
              "uHxzUN1wTBAdHJbAGLi0QNLB2zTudVx45gbXCDNFRqZ4aWsBx4G12HzmiSKfIKhyGR35svt2nqCD\n",
              "0kbLW7HROseH27t9VfPBUpHdH/oUU9vOmutNLNgSHp9okmAldh4V0+i9ibIaCoaiaO4FVpcAzliR\n",
              "QGJ4Pkl9vcx12zeWpN2AsuYqm/Jx8JpuXIUcXv3KP1P9wKYJFbVoQ0uzw9Yk2DlVXt6ERwvvWW1P\n",
              "IunkIS0ICkf7vKkQtA8XWfkPu1ZJw+IbVQecXvBJlQotynzG0EdV6xSJki/581TtKnhdhzpix8jS\n",
              "LINz/tW61RwOjxxNvBxrfdKP3anoeX9rE3NyL3luv1wlgS+wQ/EJrIpJslj+MopSoeOBXFVDOI3G\n",
              "qbsatB/SCLdvS5p+QX/6eSSwBFW3w9oDx8x0PbWhsdJ2d4nk/GIOYEUvv1KV1rFAj2U4zAKqoiuE\n",
              "HDp64+fmrEkkiNN/35ywSZLncaKxcCEy9hi7oSWsrHRcmkb6c/vx2HTyb/wm+mvB+r4GdIsBRcXN\n",
              "Q+aKU/OgISkhRDQVvtS+xU4/fU3yRh09/A9ZtjdE4pHmn02DZZx9gUhwWubfic7BS0wRzYM7xaUO\n",
              "Q1E6f09wOkP1G6bPJlS9L01WvJljhezoGbPTkZx/R26wQji8RJAe+C/y6eHOOs7+zueoHTqgeoMo\n",
              "oa7+JDwGOKeFAQhx63iNvrbxJ0vRvTnq+rQou/TdWOleRubfWBhvZukgMXO8UJv5k8h9ZQA8Tcwf\n",
              "tmu3VAFI+K41STobAdtewG4pp6mNiWFzZT0v6Hv+ypFSUINVyWDNAOhnr8pSRp/4MviedON2B8ZB\n",
              "TPqz2pkr/jmvMniNqjsjpzaMta4oNuiMRc24dKf7L4DNHCTTyrxWuixlr6mGu+yiMChSAwR1ifSU\n",
              "WDi2Lzyzcoc+F4mV3KsxHlZWNW2YZcE9+GgJ26Oz1t8DOoRvQf22biwswakBIoKot+zrwW00emtO\n",
              "zMl2rPSbrgNT+h/y8oQrh+crwpSdNcDyHNBZ89dpF2ceBLs1jq9Xde/EkZ41PVi3shvrZTOadeDJ\n",
              "N0laqlwshH2bLKA1cr7C77ERMX77f6iEbMp//AbjEx4MNXIqMCvarJZsD1DmPgFsSxxh3YDLi8Yf\n",
              "dnqdbhN6ndAQk6MmmlyT6MVc0GxgqzOqhcC7Fx8bCr+VOEzDbmBMd6lbxwSmr2gDoEhdX88lnVm/\n",
              "s3PbuGxqKvn9FSqpIvuK7vy9oRSxVOtaWidukaTWP54DRdUZvPhh5/B/jbgOReIs/SDy4m+EVb7l\n",
              "IINgy6vJjryQdCCjVM1inrr7Uq6tARcznR9gppLx7nyohN7FFVco2NN25RpCPmS3EeuSUWqiOuy8\n",
              "hSvI7U+COEko6bZ7YdlvBjPQczJtwX3DntB3J51Z2ifa2x+YzXz+jJdxq8VZ9MFWGyPT0UtFU5G3\n",
              "UF81DCZH8WlndYsdPft85hINyEw9yzXjAueeqJlGzgw23VNgx13Enipbs3iqXV5hZ60g9CoIudWH\n",
              "IirO3fvckPNEPHyEI8w1ml/kSsdm2QL+4L8UxXVp/yFswAmG9Gdn+9ynnFORBc1Rx5hT0vKe+Uz4\n",
              "CR16Tx3zsUjhnGU4nZfCu1qCqbvZgUdhWdI5VuAmL8sdFULVSbuKmU7BU90XKCeEiU3nrCeciia5\n",
              "MtKSv/9zxZVyCl3InGMqBsaprBHY3wnbvfE/4DLwSEwmkOeIjFvJ8cJr+nzzpu4VRPJAP/erHjkb\n",
              "aCuI27n7femQbNC8JtP2i9UvoWU7IQgRSR8ABgVszsN2pnm57ouYx7+cs16xzv9Hta4H/uftdim0\n",
              "rm1ySIJdggkFqmSL7r6pfvF4WI6TIpJ3aFWJr3MWxtzbtDBel78KJ+3ORi1HlWCfFmc2nU167HZL\n",
              "VNi7IwL7RuHOT91QNpsymRxCZXbAZxDiaLyuoHIrH/oLOb2ToNIBh2vwD06OeKqPTVRNaGSZjPLA\n",
              "Aolsu6/5sVPlnG7dyubwNvOW0UUzsC0pP773xYgrsv+ZHuqXuI5Gi9ub329bd0VVswtsslH6Mhxq\n",
              "cUEWivM6mqA+AqQNXMSKia939Z8tDr1jSdO5bklNpzLfT+kLT4oqToAwX4pWGvOObMzZLcmPSolG\n",
              "Woy5F+j/xTCx3v6t3lPinBdic+DmGDiFWLtjF0mcSr7NgNjGpLkFI0VyLUU3BQBUMJtiQ8rsq/jG\n",
              "IGXEtlCDN18Y6KSoeaRnDNMdfUw1ln8fcqeT9fYzFSdMjEup4B8HTvJeA0ZZXUUXhkSOhZpMy3yp\n",
              "pmzvYUuH5MCpeZRaJWP5klNLSCt8ycvMmb5RbYuLTinFz9auqI9mhSDvbpwqVKU5PC93bRI4KBlx\n",
              "zloWWorUauuoD9KGatBfCthhtBF9MvwtJ6Q3IO6On5ezxa5DouFsjajcG4MQBiSnjQuD4zIM/85V\n",
              "FKwKrOpQxnTNmp3anTTT/AfymtdrbuWY6FxWtUz/KRVXaCCK4cYZo8iFATE64z/AjhDdwhsj1Ygl\n",
              "ecv8nupzQhV7R48RT43x//GOwgs+zbhmD+LartaBjqzluREqxkmQ3IYuSa4qZyXpliY5csiJEhvr\n",
              "xryKiLtuOSCHvfhZ9ZBrtaKLpcaO8k9PwB/jFPPZd4JpqiDuPpqaiTFBauDONUw3ieTlsJwBREyi\n",
              "ef6jVtrhr8EYW3gorVtu74O2lM94WEh3levF2szTWL/5wAxxSWD1kpxcBFdX/Wf7S8vLoDP9Dvzt\n",
              "qA7Zh9ldEgGjEGTSOO2bzTlIx+f6jFL1HS+U3SCUiwyaxnN6oJ2NkF1t+idErYft9VIi7m4b/HNz\n",
              "8g9Z3vngnOIrMs4b6/7RydPYu44VQOwBmaWss4HvP2/s+IGg4psdMoh0Euro6/e+lF+FnTocOIBJ\n",
              "UWsXWfPtx2xyJih6tAAjNxuLUeSEutvdhVT8f8FfpwPH/lF0rXwR7EcFsDcJKgayRD6HQbb2FX2t\n",
              "XCRjtTS9XHS3//+iUaNfIv/D6dTT2I+xKZnFepdxJcf56dNc7+9/Nz8xSj9RseDrI1jCLsAgJClB\n",
              "Aob4dYMHr4ksVaB5iLFzKZh/9apGiPY0j2uuZusz/PHYPlBau1+rEtKw/6sU4Rc9OF8oMTjcsI26\n",
              "YfWbJda9Fcbx8AurvI4uZilhtLJHfBle8nA/T5xI1YFFcgGhpcZh5nQCiyo6ngRV3ZQ/HOLv4VgL\n",
              "1APPG5RquplnGg+oRPy2m5xbOmraw8JKI4gJL3bzvKkLIoxAo/b3xxpWW+lsvUd5VPdgzfK9LiAI\n",
              "ekn62GVXtrcIyf3ikZDjb9HIL18QEEfTM0tvL/8fRCG9GLOmGqPgJ3sQD4z9BhtlmdkHHLppc0w+\n",
              "fzvbaQvJ8E3FgR5HyZIuioUGNe101A4fACBejU1/lT5vMZvrV2LNkEkMaXGktD4v/03qt+msXwsU\n",
              "GzexyQnwxc5AsBSxWUPF8dogksG4lu4d/K+Ly3XQbF1DmDK+lSJeNEujSEsyU/7kklDo6zyN9tRc\n",
              "vUtW2NEku/Lrac6A/Iu6BLSLn6lsounTZN0vklZSU6zVR6tEgWDvf9ead+lzCMPdPyOjKgreV6XZ\n",
              "tsxu8CsH/o9J8QxFjg1cDx8pAJT8LpHMW4/U+ae17IbhzzSlutrvYC+aLnAR1CdmsP+kEkdhC3Qb\n",
              "HDcyaMOaBvElgLy0bxU3UgUnvyr8MAf2ot8OAcpxoAqNM1hjbzbXIhlPrZdblih1S+vwjWJTW72g\n",
              "u08kfl/ZRSlP8jvOvRnDOAAGiCzmc1qBQXKmr9dBLaaRMamFDWOdopN+ppk/nFbaYf/FhuFB+e+K\n",
              "CMDhPpgGm/XH00r8O+2uti2oa+3yUHNyqoUWLttKB7aZRVHIW8/eUqlOPoVYgmqvQiTRiYvuV/iU\n",
              "TUmofKHJB/NOJFyrFTiBO8lg7q8dhB6v9ntb+gUEvtPI4u76N96S1QFha7M/82qvfISLsUtuhV32\n",
              "5aM0AOTAi08vpj4Mfa6HfwbERKptKluT3ohGtTjfJIfgT8gtZxFJm010Qj4pYEIa4O/aQvhHs6RO\n",
              "TGk6DqcdKajr68RLXRGVZrtyTAmQz5Wg+z+votKv9SZcOUafk6Q2bO1U74xgF8sLtjt5ETv/LRdk\n",
              "df9hUYcKAvGtDQe+1dsJhjbQs3jXzAufG66+xecheXr8iCd6bMBXYMLVRf+i6kZmtBdcuiDPRgff\n",
              "UPww2gVHlUtpn4nK1jbihf4OEtYPHMQCMf3aT5PI89hBQ/bylerkCx2XrSfZMjNzOc3MwHVLre7C\n",
              "FCTsB4W5sFyuF4/2+dmtW0UFe00hOdOt8AfKYYjgDFrVPUuMdkGPxAzLdyAh+uIGP43tJsmenqPP\n",
              "sWkljxrr//jxJKoxoSp7hthdJNDvHiDyTTHuT1LP4pVFT1ghHBSmdkU39DpbTfQ2HQl8C82CXY3n\n",
              "3pwCGoW/yIoWNRcmPCArSbwQcBCCgEePLl6o5cHL++EnGnskxOQsbnilEArJliPWdqRHIYtsBhrg\n",
              "FNscKpVwzOFP0wwltWC409oPrpbnqi9sNWx6N8989VUmtcj201vzC2Sd5btXc2YRFlyUm6c1qU3l\n",
              "4AqKCSEyGmvxtTjWY2HpAUs6+3xYtyUJhzQtbioFLMVWAYtxuXNxIxzfQKmDwYeYOLx+umVRIvTR\n",
              "35lngWzTv4x76nQu7Y/e73kjwYkwBx5U/8HF8S7eAPRhLEo3zFupkkcH4i/OfOy5toprbXK1pZUt\n",
              "yqzY4v0Xu1qybwPtgqeJBRNeCBkXTl4ePSqcDchML/OezBr/Y88S19IJrCHYCrFcR7XsSBxBOYz/\n",
              "snTp3KNm3rY/n7lIGF5ptkoVpOyP0e6HCdnK8KtJMWAmeQ32yTK9Of67rr6wN1VTmO6/1cuk56Z/\n",
              "D1/unD9oscg8aemFA8zLrHPc/o5qglKr/gwc+oJeMLlgcENpHvW4aymjz7rX+AAwKa+q51IelWXJ\n",
              "QEBOapwrIaCeEk7b+iEGvdCj0sQVpBqfywOOqVY2K7X5Nn/CngF4ptJl3iEnD/T+MBYlkTwu02V9\n",
              "FkIQIb+kJDMAs2+9YO7j5Hn/Wy6yMuQNkuyppLIUTRx4iB37FA+o1u43k8Muh/IV7V1uKMYkmoR0\n",
              "Ua7xfAe/2ecGPjv1Lflr/bUQDBU0ngC/WxDo5BevABRe0ENeKX8ZUn2FSWdCIM4m0/Jr+1vKNyrV\n",
              "PDsbKLTQfol1qr9ZUnqYsFASKwa5Mtw/NaZW180EVfVZp/UBzlgG3K86272kT0lJ8Mc0KHBPDzWC\n",
              "NtkF56o401wtz8U6fy5v7quJBaVaH4QILZhysOJ4s4Ozh1qQOyfXhSrIUmbgwdtw8dP3HnHsAKbu\n",
              "pxO1eIhUy6i2Tl6Zm236j/35GZxFpSmbtA+VO5iJKaFHL4ZtIetmJwSn8VtJ9nLs6eldD1ej3Pr1\n",
              "QKTnDww/45LxXEt5tI3q5JalDbbPmL8dsIkqErHjzbkbcagK0B3wKO8EbDUJmCIhjBQ20UIY9Da8\n",
              "UU/DF+l87I2fPqhpeIJsvEelH+sgf0lgck8WACiATZsfKYNeKoa1bugyn6H5GLY/ZEzsssqhSZ+g\n",
              "2P2grC31M5kkw43aaXRwiLs+jFjlthmp+tLxLXrEZ/1/S99LfO1IPht4bFCOldtKYjXdp925mapg\n",
              "KY/r9eqPQiBMZhsz6QSmssrIN9YoaSqWPIgViv+B9veE96caMk4OmrXQ/GAYAABEHGPgVsr0vhT6\n",
              "zUNRKKSVhsULZLuumgL906xzXkQYBZyAAAaYkNquRaf/WHJUpVn2bCyLQxQMQkARmfGOWyxl7EKB\n",
              "U7RE1a1WleFSCXTv1rYWBojDAVzXzEebtbZupFiJ2imxHnkf65HJDvT4m5rF1LfECpo/yMA0HEoz\n",
              "Wrc0ZHpWrki4LUCJHWr5+Rt5Ui5XuPVtDq0uM6odtKbkyq3c/lGAkgMPl1Ji2pn0L6bfIzhDDmgj\n",
              "LvhfMsQYQcKj6xDGLD803aJBgT+ibhhAxm2Tsb/lPqFv1tp81BPPeZQGUsJy1LZc49i+mIN58JXK\n",
              "dzRLOgdAp9aVvA5JjiFur6C9mt3RT75mntJcUoOBeZy3SnZy4x+mx0ayCF21xwEbxG8LSAwW6aE2\n",
              "aRDOyLSukMEYPXCicc9meZl0rOlDUA4BbwMbb6gXBfs/D1IM5DI3AKv1h6r9vfhi8vH0a8s6Kd1P\n",
              "9HkaHQC7fiMz6eaK6IVXVHBKSsNGHEKYtto51JSCukkyqzroNqb2uU2mhpXVmlZ5uKRec/yGfLty\n",
              "02faC4TsDWbNyHC82Y0Y0VEvIQnb0AtXvU2650BETTEZF9x06fPxrzarWaNksmg+D0oIu11MC86Z\n",
              "BdfD8njPRp1WNjlROvKEW/+bOVDy4v0K3GJaW8GIPfM//tyHJRgid4P72gTJifPEjsDxd3kTlwj2\n",
              "7PEyL4S5z/pgcFkzvzPqz1/dZiEdw+pD6Osoy+8NDdeZ4pHGsVfgRoRforQ+FW10Eppn+NUraAVL\n",
              "jdOTKMFBSwR3WXX/t5H39O63ir1ZHphbGqTeFCBKAjfeispZiXFrq3o8zlx/Mebink/6pzbqdcSB\n",
              "MpSkCdanyrTayAPVoHjcw6y2nkbU88vNf97XA2jrMvKVq3lNCxb3eoDRKQXojYZEeaL4+GJrzdjE\n",
              "oYg8SwGBew3W5ZdX6qQ4jAMZQ1U1wSmkyAN3tEYan7CdD/kNqH26S3UUnCFDilzqjHd7dJ4JXuqe\n",
              "s7BV7pdfPPT2UzX9EOLa1HcmAYILl6m4xBCEXQuZAiQtC8sFx7GoOkZSlPSJ0x4fg5GBIIoF7MHc\n",
              "vq/u7sxBoQmtD93iygaZuGZY2+h+qBr4ITyGluckak18HsP5cA1z8zaR6mBVWTt4MGNa7R71K4k3\n",
              "6Q/sY/PJvOGg7E57/TZzymmzUyMMbPIvgepo9XTNXnkcTnNeiFdW+q5LdkynBOeiOKxJXcKP8MsK\n",
              "hU+WRQhZQanq7/lb1T0PggvVRhL3ygYPvPI1jAat/UIjL4KZNEWhid7ZGgp8luTTG+8kAAWrKXv7\n",
              "wpt+BrVBB/ewETTweNix3+zgWq81/DiFaRaR3Bgyj8Y9rNzUvrQeSdUN2n3qfDU5ZZ/UULMLDx13\n",
              "Luk2ZM6ytuDrlzb5HiGIB7P9sK09LW3/eTkoWqEsXfiKu/baEUEbNmtu+a08oLXrW8Q8L/x3eia2\n",
              "Du7vsODTBp3VhPYxMEpx+znIp2oRMeyqMGB2mqWSTKNabxQplKqr1A/0c2iuSeklXlgE+Tapp09K\n",
              "DY2n7RCUfd+5Xdg3391jA/FtvIeuTcrzrmW9S9FJ8dLXRNH4VmrIRyaFHRUF+NfDdDdre16ij1PK\n",
              "qrsq6e8y7qLCudihxE6bdcBnfFJPAXe49WGUcCTm8g6yMg2DNmhExjyEAvvl7smRomK/paPzJhPW\n",
              "WpQtIS173G5QunMdiYwyfJwe/yTPm2pRjd3NZJal4Fn/RXT3TQFcQuDsbP8Z7ji9/qXmwD+Rxrw0\n",
              "gBKqp2ErrstLbYoPDf8zVSN8vF4zhqe6bKCPf/mN+Kk8G4DH6CiD8+BZp1rsJeVwnRkK/WUU14Wx\n",
              "831MvNDOR4uHryXkXolFFfKnJLF32G4Oj/RXcUhISwnWiIwWPjqFMJTwSYe7xxPcZWXRCpGtD+fv\n",
              "7NqJBwHiy/TLUhb0mAP9ufLPlDU/Y4m0HZKtVrOWgSdRWzwsAGR6SVKks0RY/nGPjTvzD4Wq/KZQ\n",
              "nSjDynlSKPavTeGR/RCUNb2q0WvVqSu5+6p4F4qq+bY96uOSQWOEQ6sDoS622V06blOIw2Ui6Z2u\n",
              "ZWhri9eD4s3AXR5CTDx9MZMXH+ABJJpthvVE31Mn9c9jlOMwaVejvAM5CnJ6cTFGzDbH2s5hOx+1\n",
              "iq11PamBaYVkig4k+2CyWDIzuVSLb0wM+entp08PUThLPX7RdpKOM+gklzzae2QQb6fpi/AUGYPO\n",
              "VZij+uvn/t8etpJlAxPWfxWGxpkcdHx/WUiWffKjNKnYdR7uXd5xiLLzCN4UaeH9qbz69BSDqWnh\n",
              "GJTosRrGlFnXnpn1q3qXe7x/iMtLcHqLXiLH5+tRwYFPD23QONfD7kUdNHzfTzD8GzAp2V+KvXX/\n",
              "grghPytmQtny7V6hhFFfUXq6UjPxg3cgtL0PnmaLXrJyqvEoLsXtJnviv2VE8EkDTXA/0QXPYe01\n",
              "21vrqt0ZmG5FOPbOhuF3Y1YPmOga2Gz9YIFLRHPkLyCUd7MAVeWSdfVQ/Mr2GTE8MazvE87wxmha\n",
              "XDfHYLT2XwxFzV65QB+Q0xLaveaEoTD77EdpXtxsSPkNujduXVfHLhKy7lodMtkWf6Jslu0thZNy\n",
              "UUbeXZDPbhpChaQmpst2C1CxCVHIqbgB4CPr6NtdUo6P+iANNynseaaCjJmXfg2bxVNFKwyE40As\n",
              "e3QXN6T00TARM7/t0z+ahwJhhBHNJJs6lXGPfuDVrTv8AHd0SoQsGzd9OSFuWsNefPdKt+Y+cgGE\n",
              "AfVJuyEV6dhTeiyCL7Xh7TNv8s+qQD+cfxso8slf19MUUUC8nvyWZEFY8kB20GqJoC9Ck1xPCQI9\n",
              "7UItZnvUqwhgQCWqN+iMEX9pZuq4MQ3we9zELoF6VwlvY0V/4cLMu/sP3ODijBnaXT+dXdkFbS0Y\n",
              "ytubgKiVv/u2w83fCShfSgXRb8IDESdIMxy/p3qXTG66nxCLy1cpq/VuqqOXw1NYGp3/Hixfh/6l\n",
              "o/jN7mAsgFHs3yfiEHbotaunFfsrgAXW5NakfQZnRualt7dBUHlrlGTWo70EHolkcRCFRMnk28XX\n",
              "1P/z+6gEusukcTr1PVLVGf5XJw22qk/tnWAgHgnAL9jtjMN5c/JioEpAB0/YL9hpqP8EiC75Jqk3\n",
              "bLwvtttdbLi9D+4dUXp4tBGtvZ9DexqLOLSBsmXHvPemWr9xcmwRNqkWjXM1c5cENbf7h6OwH2h4\n",
              "TbbhT8hlmh6M1Pp+eob++SuglX6EXqXJ93c0QrbH8m7htQEulCF2N6foVkNIjzHHKTKuEwa7impL\n",
              "GC6EXIo4lGrPzLxd8tOuv2X+06xmcYgTwJAojUbZ9MMEoWMnUQv6JkCkLFox6u+2HPEZydaNRcbj\n",
              "dFu0f7e4slVLtlhgrSIZj5RP+jyqR+TMv/lZvPNhGF+3iTJdKBV/m39idZN1AtUerTm8NrwgrDOB\n",
              "M1DjDMwkfITCI371sWhA7XIbP30CCPGCjXVGgavULiC91FvprfZJ4h2uci6Jer6mf1Fae6vzkv45\n",
              "z6kAEeHYHNYor5q7fRZ/OkRqFXbabZKPBj3J3rzIW6L7Q+w0KZk2s8t3EOiN9dORp5InWXykifsD\n",
              "d+9dcl7KVf0BgvX6Wy+NoizQ+dJ1QGizENRx4FwnrRMBEFSIvhqTlZPYXzy2BfU6jd18aIhymipO\n",
              "Z8StiAyfFaAT/kKlNugfEL8WrIEwEFQYwtq7CDwNeTW+gJskxKtFSuVMeo2hU4HUDNCanU9LZaRj\n",
              "WLcaisNuR7GEfEI0vJPN+Eu/W/JZxY7rz8N/46q+xnQSVeJPBEGla0a+7JwKOxD39dCm5EB+RUe1\n",
              "A26QJTaW8KjU+SJLAaJk+azeOxbucQJyDETWqxodTAhNEkAPt0zBZOeFmeIyT+KAq/y9cNz6PLMJ\n",
              "IL+fVcRy/LR7iZQWKuPz9PFWx4xtMpZTdwAm9gd43DAnu9b98YFnI6u+VFSrwT+VuyJb/wuszrcg\n",
              "f5FsiS+LSprc3rdNfFeu1xcn1CJDMrxOwf4U63YmcBGkpoIPaNNX9HSTZCwOBFtkBqoNPS9IrJyq\n",
              "C4qKh8VMl0Dnly9WbhIOXgU+l14ioc7/NahxGMa3dyf6iiX29ELzxeIZcYIMUMv2JHNUiXov5XsF\n",
              "jSn/41gG/ANJPELNse+5BfMu7yNAByFEZQHaJxGlwVwB4nVMBnfiSZMAdcIIoCsY7Ko6O4s1Myqu\n",
              "elwfsDKQcUFfntfsxVdOeWm0p7QV8FKNgtbi5srsziBWZrI/HKcIx4DdR/mpVJ19h5ELhYyN03e/\n",
              "IZLilhjz8hrAEyM4WlUM3Um+3W2uZ8aBBWF/MdsL044Qyy3zUA2W4u5XWuu7J9od81+9a4D97sAq\n",
              "jBnvf6aOXAFeywI6rDe+PS0XR/z9y8M0K5jwmN+DNQipwOHaWEU5Cby+Yh1/6FwkNUomzpBZYNjz\n",
              "Ks+3CPY3yaqgTII6FtHofyZbq2JMKLhEh+Zy1D3qckRijBQLU8rkdsf/3FRnLD8E/4ZDtQ7Dgbsn\n",
              "GdXxMxiIN1g+CVMofSTW1B71ugHUIW0ZLGnjtCwdwdgOA9ZrSiHth2eSpUQIumH3WDi3p1MW779+\n",
              "Wpx+MXbwbl/XtXgZoJ7znIqjQ2nXcgoyBsc9Xww7WCltOKknoZRLiGMDOVdJlBKgbBSmtHWmu+kp\n",
              "8ysEhtnt7SC/n6+vSJF/eTtTY9QFbSHqS4sd/jS/TzHLymGRWEb/+fvUJfVQcZ2i/vxo+QKm/5/p\n",
              "q5rVyNhe1zFtABJQ/cRsWw7Q4OycXulGqTVtFUcHe8QLzeu837UdSVUtWY5V42nS73gW3IzHvMjQ\n",
              "bOQAule78Y9KnHacpo2k7FeBXlLU4Xv/r9j8EH8bZx6AM6GDv/h0sTktuch9xSQ4+hG/7PlJ3x21\n",
              "XvfTRBxzpb/2hDNAHFw091HZ11S2HccdeKXRb+veKp5cS0Qec4GKP8l4pHFH/779dnDLVfYlP94F\n",
              "voucRtT1a82txqLtkzPut9vdnxyUKwxq8duRtU5kwZNvBjwMXyozkaaZbeKatSGYGZmB5gGPsbDM\n",
              "bpArLYP3jRk9mCVzvhdcmV8w1FnTlOSmBbeAI2sWba75XiI0Ji97rS5oAMhb0rPgDjWTpTkzXLXR\n",
              "g6BVDJ6kS9aBOlTeGcdm15jwElT4Hf196JRZhdJ0EZxZRsoi93v4CgTgkGhd+cyX1ripYf8N1BEK\n",
              "c0NUW24mKxhBL/3UyTtUrG4J8GDDKku6J/+FSAhhJt0ZRdgs4ncqbNNvFnJqySqt3wlciPXkknad\n",
              "01vvof+Z8RAtDUwY4JmPN62s0NRwlgZ7fmL6AtFPeBM20B9Ahc9BXzQT8D10RvybidMaPQj7K7/+\n",
              "3p9ILabRlWD8Td+XllEMhDSzqQVEvI++THhoXdJUNePA6gWCnqBNI0fXMQ4ZfK1hltVNSuNyxXD/\n",
              "/8ICrnncxrqX+9I0Lg0u3O4MohWev384CHnUffmNGZHhiRNkdN/itKzqrknktNkaQmuDtnef//qv\n",
              "RXaEfKgMEjDReWjXG+3FcC5iTZ+9bwxgi7p9PGgCgiKCajSNcwLevghXxf4hJDF2jbtuIhDyDpRV\n",
              "dtZS+h1puFH/weC+05XXpGr0HkUcs0AxJYwtjIPTwvdI9sQ8ZVWCjNLXP/I8KmpwuGlU2uB6z+GS\n",
              "JLhdwASDmmIB8esE8TjkOhhMx7fimdqWfpwFSpz3YjlUBGKoTHwWR7QzVuflf8qBW2w1cKoHyezG\n",
              "ezrkjWMBo17FoyAxgFOblmvxL///fpAb/MeaAnWZC41b7YnBZ3VZWaOcfS2wF5qxKmzQP3/q84+5\n",
              "T1sa2OPnsODy7h2qqYi5Dxxa0XB0kqV6Bf2Nv6Xr/AySfw9NixbGOnoah7dH413b9OwS16o0MYTq\n",
              "e56qElXNW0n1ofozk5x5lUuUIQdBJr3qoB5ikxpunYz5lpJbPlKwMzfAYXRyWSjCsckGSPLaijgx\n",
              "E/8lUXs0hqP894Z4WVotqNY4tpuE1l9k/PS8XzxTLSx6ipG3rtNw2nfYGITDeZ29vCAckrfCEJaQ\n",
              "lMpS4c3BW8ZBhskGN9BLX/KEY3dWm5bDBzkJm1Y2ImHoKtQhis2UwIoxBATEWjPiIwr+ATsaI70k\n",
              "0lugRPrpLi5xZnn26tHp/punNh5u6xJoV6z6pQXFKc//7feoPeCF19SB+3LmVam2fKzJIw8VSZ3Z\n",
              "Ne87x2bRqnjAEnA2zfgbB7xQmAK+wdY82qjn6rknCgb4iiYDiiQsFYAqH1ddJ1A9ZBW5mF4TMQC0\n",
              "xaq99b9/6aA4+HuofOABqBIY6GcAqkZUy2pzrZxxMGaMI08WA44xqv4rWcWP1baS6N9oqz85WDlT\n",
              "EGj3KfpKB7DzSYyMk/dp+ZbuiTzv30GuB1RxICcTj8/svNo7wwKowXvMo9Gh33TsA7GxNv3arypq\n",
              "pRDRtn2mCzMGg/vWoDP55FCe1s+JS7KVbbiyIjkEEU41BaXExcNHX168dIaaiSNpQIABLkD2vmnd\n",
              "2Qr12a/Wc3IqGfq/YAt/fEy/9fzcoNHhH5D52aiqjPMeFk6CiqXF9ZBMbgLmGlAfA19ckGJ2N9Qr\n",
              "T89RFefTgjeF7yOL5VeZjVI0b5xAyKg4vTifGMp2PjjVOoEcfFlmVYrbowAFprB6N/XgxzaLNnwx\n",
              "BWF2ZwEHs3jnuUjion7bsgRLjVpGETpkqHbox/0ghEVXMzlkJPGoWvJLykGR1vMZkl+Ni6+oLWrn\n",
              "qE4HfylOgLMhMMx9SJfqyfzb4r1a+79H3uVAHXGZC1oUsg1u6c2jiCYw8xSDPUlEFq7hZULR66tV\n",
              "urP1QyyJJaCWIt/X5EBAb2O2JJV0lYcTnfU/buQ5yPsY9a5d9WNuRglST/rjElPdpekV4Xdqdz5n\n",
              "76FoD1ow31KtcwttxEdlr44m8q+STz3dx6fstHu3tczdMmW8+0/smX3VIdUV5Kh1vHSxX3eNSWdL\n",
              "7Ccx5Gq50JFD26a4gm5wSgkPZDy0/pnj2wrqMe7i/NkETrblXjXGQ7iSQ2t5lYPikEFZPVZMGbpn\n",
              "rs/COwXkhY64u0S1YDAY2z13WgqTCyF2HVi+mdSRE8U9z3E92T0R4yjQQ0XFRijKONeZGUJwmyLv\n",
              "8hmp3A5WPgPxZex0LF1ECvn8O590mxGoHptFR/aeBdc+SC1bPE0VYZ4OerK0tflBieltNF+sV7dB\n",
              "3NLcg/53Z5o+4HWQCyZCiOWd8hkyKWyXRryfWKOxLnZzW8HRPWp5pgQGFgm8tPKKkG1KKGYblI91\n",
              "GF+0apQqIgTwDVT2HpBJMUf0X4HuIR32taL9Gr2g+soGOgs2hb2+Jqp8scZY7csBRURMzQo4MAd7\n",
              "0YD2+1E0U1YEs8bMtZeTFafArHZ3eykSG8Eax0KYNlMoFydijZSeY7pIBdkrQpu9ElC5SbQi+FIg\n",
              "LZp7VDRDQEScAolnmMvAWZJcHjMEMuu7teHSI0DjSPyX97B/ttCehn8edVb4X3s7izlyTeHGN3F9\n",
              "wP5ZnuycPiKkRsQZoPzCde8YnMd9Y7CWbr3lEy4H83AGRnDkpGCNbRlyxBlC9XSu17Atm7dJQVab\n",
              "51UHLHZUEBbk6Tht1MKUJ3sB4fwe87K/ehTKM2Fz6PTU8ruGNgUAjyJaakWHlB9qCFz38rPoBy+i\n",
              "FTNsDXLZQXD9ejyqymkfE7HUbkErGEHTNEI0RcXhRZkyJN5gzLpB7IsQU6uq8wraTJ4O4IYzA43L\n",
              "WvkSs8KcmcSoOGf3thw94X3kvRMxx0wPdWaW7+nSft/5In6zZ+NyIhDwxTji3HB7heXXg9zh/VCh\n",
              "D34hQbFKIUJffftNV8pPOoFGxzoJvMmV59co6tB+xtOCKeFdlDhEU4HcogdG/hInoX1Zf7aFj4wp\n",
              "IELbaG3dAU8Wb69ugifiwz7bOKrL6/ZDucixuh+jLNXCD9hVkEWr+IftAr7ROqZkVt6nAH+DOtv7\n",
              "AUbtazfUkey7MzHwW4W7ZiyQ/zhqZTB2CKHsLn3+Z1+gCLyBZfooA1oj6Y0xSAT3E4/HC8CBK6xV\n",
              "AavcMNzkGx5S1GdT/T890uiUhCrcrUSdAzMuauEFEPi4tjT/4Fca3ESNS4UcV31If9UIyLAf8+9h\n",
              "wQu1b1hvpeS4YD/HeAehh3XfglF7sxKqHw+PGnyLSrrIv40zrgXQ3rUN32CqB3SdegHxUU1jHIgg\n",
              "E3fpU1YRmy8m18qcFJ6eabXYKCK+o50UtJ3zmNn+RScii0Fycok6HFJJSbC1Xov332w03VRW8jR5\n",
              "0HsLrBpNXrbTjKeWGwhvx++DBsXdKs3y8z6GuoYKtfOkHhIohAjn0Wi+zqpPyZvECNGWilRu2vJZ\n",
              "q/iKGK0res+1VcqDq+98OxmaD7NAfslnXYNv5H5lnYR+ajwelx1r+z9+3pv+2SUacaqASXCcAzut\n",
              "02TNoEoWWf0JPCOq2RUN6nvQcPKtA8HFn9fmnJZSQTAqfL+lw0BHWpYEXSnl/UDUiZMdHuZJjY3J\n",
              "qONhE+hVvZLNbnYPlF4L7E2OacSDLEk9Rifb14KOMFrYXHGmz4BlXGG4w0lTCakIt5lIk13P254n\n",
              "al+FMDb1ADcXMDgCJ8LlG1pOdI7wjlCcO2oEFPyh2e1/DupnmJhMt0btf99nybUk+oypodexb5cE\n",
              "szCwcvwKNQqaVw6r791fLtKXEdh9Jbo05GJ5zLF3clrn7qLLILPBUrc/yQtjyhBKZmUJntwDFWTw\n",
              "wlMP+Z6uWxagDMgZepU3GNqJ9sAP+mPcz7ktpTOgxMy1EPfoTzP3BZC1MdsAKEHNtZMRyLEPdf/n\n",
              "gYIjy0767iPjNILJECvjxpDr1Z8WLnbXqar8Q+SGrCDsF6zR3em+IEBjIsYOSwoS4jdffmHnuifZ\n",
              "3OcshbEahIqeMLv1C1gFeYe+mUSX/rtAfLFDZm75jg/EvmvKPy3V8DGuqkIkpc8LreiVUBT0Ki5L\n",
              "mZCWeCi/hpf5JITvR1CogE/2xXag6GaYcmytC0cdb1wXVtoMcOoUzqmeyogWdEbnSE2uR633IVuU\n",
              "ojaavZkncB/qcPBWNzGTcj6GLOlm+n2vCK781EKP5B48HyFlQFeehbyAFjBzi3QFygjwNtf4FzAZ\n",
              "XXksdkQgf6U46f7sUhDeWXrG/20a9pYyiWY0kMDTa6/ndcGjUCZyuTyhPAAo56bzDabJJfmV9wzq\n",
              "zfAF6Dpn5MaAbmnyY757TTX0jUOPV9frpAA6bcNQquTHD+wVGE1hFum07OvcnAGporgGFsQuFJzp\n",
              "Mcqp8EOUm5fBuvkzsLyKv8F/61jHEO53+9yZFpR7SoC4YY3uT7W/9d856vJZ0TIHB+WsBECgBvCl\n",
              "UsIdb35nN9fb/nckRClvrWprEIG91F/sp3Z86KtvWh02khjgAEiKkMPIZmCpUbBoFWLQ2M1PcOnC\n",
              "9Z0pAGPzusCCvJQnKR3rhZHlCALiC58v7lecO6DU6BxSuU2LSXrGvQzpz00a7CU35yAyquy9pCt3\n",
              "D9dmpTjv3ln0zdyfsvFm1EKKGLvvgh85G/nLyxJnGOI/E1KOXfSF/tgf0fcNVU/pQUZiCQFghLZp\n",
              "9jhRmfgUt9YPkl8kPz59G3qrDzv7ZV9DhjxnnY+thBH8KjEwNupMTRd9rLGCv7ajaSn3xL2RE+9S\n",
              "RMykDOeko3pRR/FLGWvS71AxtDD6J72NcS9BsPe7yC6BwcxQarv3Gd9iXCu4maddxx8w6EDix/7D\n",
              "/lqfxwNj7Es6NxQnMOAtV9YIwQKHI5iW6bzEBKvgRIrKi1OiWPbIERldF5p3/17iHjZ1FYSi6/YO\n",
              "hISLggIb+CpbOHMVw5iQMPzkYAI4ko32fpyq+ko5Sx+AWEvft7D/Mn8WLCdrv88PvPJaeUleK/sQ\n",
              "wfw7UwmN4s7jFH+uJRrzefZIopWL1mJ92xR95AwjinO/0DrjA89pEeG2jGEADLDyGWVZOHqswZjy\n",
              "YuzshLyRvdiIPFPvvKI5tXnu7tfu/fQNPrIXHWPitCC/3uSQfR0sa8eNs77tr43zv2cF9wvhNMBW\n",
              "FTb6VBkTh9DECUZhowrGFniPS75QcCKt7LtCoSMI2hunrO3y5/hiY0AMyschiWSpbrML6fM82uC8\n",
              "kZKRQAepT8+QtEWWrzD7DktzgfEezRG+XyOQ8zRaiMLrtiSEajHweMVOGiIo/koOakUIE3/xdN9R\n",
              "hJT24xR3G5GzKpr2K6RyrMXX+OHr43tdTqy6GST4IIzYnW8oNQjbbE8jR9u0hUHLJtsSiNWEbqyS\n",
              "7ExxmT8oI0G6FN4Vxat0D5WDUxXEhcUpCuLUG8OgWtyOaXQ5WFBSKgZxru0KpjwAAKb4ACsr9C1K\n",
              "wxCsVduclQN1nG1bsh7HtVhck1vGRf0i9RS/cXvig2N1Um6oPy6jw0vgS5lP1CRYPAoE7Ei5ZW63\n",
              "loLcic5Y7ceSPqWnOciUoR8TSYgfXl644NbVLbm4HcI82L739li/j7+2y4QEU69Hf/BTcLsEjMlw\n",
              "VzUYAui/aU7YH7+Hm3d7jH2wRpe0pbckucWEFGaRzzp1jlf/+SObSXbWvG37wvSp4GsBNiCMxgTG\n",
              "DFv6ZlFadaOUMCgjJ4q4ug+fZA4Dx1Gx9Ml/HBLhY0OWgWcH9MrvRzCHWS2JMv4k5DEq7Ut9dyyt\n",
              "lWv+4g+GPMrXSM7pXFc5Kmg4SzztJG1D1yPa5UHIs0Vn67bFNHYTUbuE/0PDS+oAaoM6U9lUSt35\n",
              "XUG2ueTv0hdTZQB5bPZrtYJafucF0lo3pO9FpFR0wtW3ESzUH8F6XSER7znsYCi5iicMYjVDV3c1\n",
              "+eL2E41AUbBtyR6BbxXnV4Lc+QAfHTMnF25OWM9wN3JYyqLZ9IrQGPlXQXSsrETYo94vHU3ewNT8\n",
              "ib+zQD6TCqkfvlA5u7fT9UNN/OSuA49Ej2vGM5yTshbzre8HmaVAf6GQBTNtLrCt1P2pPOSRKKK3\n",
              "tkck1tMI+uxpmHTd8mkZR4RLhpLunvptDQPQjOM3r6sKTo0J/zGGgIV7PGnZPCzYDMnaiFS5BstL\n",
              "CFbkPcwLzO4Qwp8J2cG2pR3i/DDIymeoEYHc6dPIH8N0By3HWYT+LfklyJs+B0QVSbAjd4isAv7E\n",
              "mDLJBhQ8YB6it/Yv6i/iMvWLnXo+QMtSng/xVdmWP7UlfibAEZLIQeyjyFbJt2svqU3K9Ss5Q+Jt\n",
              "Crn2M6rvug5OLBontp+4SlqyadgkWoNQh9odWIooOtqQT3BL940ZA+1x0/y6NhmQX7tkAjodWplW\n",
              "QVF0nML4u06Ap0SEx6GC4vzjEwgsYBM665vhSGg0Hu7V7a9eI21gFoDsHZ1fbbZYpFjwpmVruPjH\n",
              "xzBWYue9DMCY4+SDPoR4X1y9uyDUdMzoWYAylrr99bCed8mIS5DP+jxG1+MYjbdOFq/BXVJU7uVj\n",
              "jBrTtWoNLCdj4poY8Jm4p0MK/rxID2hSxKgOYdzM380NyVGnUweD11Y6n0oc9WCO5O4nIKJavm2i\n",
              "1gDPgV/shDnpe4ihgVEKm7/jykcHbGyDde+DWuNSsKOb+0KrBpIZ/WQHwNaYimgeSXFeyHe8gyMJ\n",
              "KkGXYobjThMQjUjV7lw61xP+jNPfylV04dK/iLS5NsfEi35hnt1Z90sxFNfSG+Mg1K6gChDk894s\n",
              "/Jkd4oEFPLIqySXC6Ph5e8/Pc6QHmEh80st2ioh/O9un4QeJXNuBfDJn0ICCEvAvKMUxGoa0NTHH\n",
              "68rc/GuBZZUcsRG262P7IrBTMpwDy6dO4KPHt3Sk7YxyqVq36IuzaWFSq3E5rMolx7WrPMO51T0D\n",
              "fi5lFKonf12vPfFiN1UF6qBc08D8BiSgvFemk9q0BY3lGFzFwJ0sgXTyG8rRpsI2PmKohN1QEIWO\n",
              "phv8T8Cr/J0yMjOIVReqAMihpPk+jsuyxQQHi9//kuSDNHw34J2DuYtn8b9cw6LzuwN1SDztA2Cp\n",
              "VsVgrITYU+Wv7tXrvM9b5DX+wvTfgJFk/Rn1pvQrA5RQ/s95eVEzge9R+Crk/gHws+wtKaZV2abd\n",
              "p8YqSibKVlGpx8zxCYy4ONjVRmK3RmQMMvpceiH7JM2RTrP2flrEJkWvi4esQslA8TZT2PCfsA+j\n",
              "5/BnFqRhEUb8FZwwr+M5VYRsEeys3ZNvMI2L4FFiEpjgFg3U3BXT8PYXXE1izbg1AD7Wg/SDYawc\n",
              "ysArsXPujNXEsateI3rA1Sn82RcQscz7ypPYDTggs0KL5Uy7/VEX6h/FX7KO5NMxK1m1H77k8FwG\n",
              "Fkw4J4fdma2dYq9kgc+m632cD/vgABAQJC1lfL8a3649oeF3L94McK9t8mmZl2gCDhZoo8sfyPlG\n",
              "GOLh/2lXk2StD2fpQffLUmnIUNcDYtoOisGj4yoWuEHC8ptDcp4kCiEqy03pmTdDuwucDLVozPu8\n",
              "LSmYQKdPFEDkD5+ty54HLRedTaZ4+6K7x3uiePRpsBD1guJ26YiDiyJd/Q7ybfb8PaLuztt/Di2X\n",
              "v6sZogfpbqDD653OIe6J+iz2EH6vHmBhZBBDYyy6FkKhrnzdvjiz93VyRL95V53cTiBm0a4acuig\n",
              "K/m5qfdc+SWaXJrw5GdxTAMdhCK6vgXuN2XVQiZ0fCqH3XukwgN+cNp2H3w//G4ZjcGmUEQm1jgX\n",
              "48jJb97lWIzwG2wMSPehyBL9htAXtmZiT8bIj8CKt0/gZO1rzhRnh5GzFQXJs7BpmENp4GlRq+0c\n",
              "KmtDPfHmkPgLX5UcJRTPoAlUDdYnhRg7/wClrr/i7gvSL5BMidVfsdTSIRdlGrMU8R1a7rbVRmY6\n",
              "uu/nlNCAkvGNuGD4Fs+DHVOhui25DS6PXRSFZqKx1q6cf9vCHC9V47yEki2zkJYP1CeValf7lWyw\n",
              "25l9kHhWG7cXQb36dBKTveoSFPUVhva1iGU6bz+V0KIAAGd49g5mwrd42SOWZpec9WTiOHsXjqr/\n",
              "xsxX8RXbceb6fsDBC+funNXwqMjq+RasLb7tl/ogCuX8yb370V5B704o8Tz5pTfgwQ9haxD5vGLn\n",
              "H6O9gcvuitaR31fFhDkBBbCLCRbUG8Er5oGd55jEioDKMBm1v5Q8IEOQMp46A5yQunpK8mvOSaRh\n",
              "kmN2cG/VPxVqzxrXjGA0pAJwDwYB/F9XTGYpW0qkBMY6Dx5X4A6QAAAcEQAADnVBmiRsQS/+tSqA\n",
              "AZ6TKX9gAh1CY0GwyYdTs+IHj3Jh9p2t3oh/tja2AAzTd+0TLYGTByGiTFqEDS1WIAAPXkTnkxTS\n",
              "DdRp5UpG+NPxxt6Q/jW+FKpbK6c6mjXDtPs637h4W2vzMOO3fT+j6RRgp/SoFp13cAXV2ATj32Hi\n",
              "5VpCs94kmrMWrCu8xfPEt+iwU0ums6HkbrBOpoMh/EXUqP7Yd9ZfCUqcl1DF3ZseyU3VqRxZ82jK\n",
              "+r2ZCBgmcsCIbBAkgjtdfqXBPHaaavoWU4MbSUT/qEdgmWLZC009Pil03jLeNdHWR4yqnNqwJvEB\n",
              "tewigIJGB5mH1AbNJSFKEGqgPqGwx+9wCV3mMh824/xA9AMLAEH8zUDNINNW6I5lKpMqdRyX6eGv\n",
              "9Q4nhCAXSEgjIOWB0W09bgC7hcEWewdb8pmZiTbL3ApuXSzTTB/5RFCxagnPrwTWTSsnN65nJtIe\n",
              "HTn/ADfDsv0KMMimCWKxUGjHWa/AF/md5EiG/LW/pCmiJFSXZQeDl2r/XNUNuEuJMpLBCqOaISFp\n",
              "vHWakJucLrcLpb/3m60aNRNgxw9tVvzJSJHMl8dF7w7hIgfsjvt1VzoLiObIbAiRciajqkPEbsVa\n",
              "8XYPG5gMcQFGp2i56drTxy2JE3Wxettieikw8Z15QYPwSXNmi4ArIKtz4fc+FHh2nXSa1ifIPzWS\n",
              "B6XeEjRY9uQ8C6J7YRF0xp+PqgMFqMDd8qmnkXgAFwhyhjSXa2/yng8wg/5Kd4d1nH8TiUnRu5J9\n",
              "Ia17KDW1vPeGnQiJ9LnPl6ECQF0/oNwMt2uGQcov7tJqX442itwpSMBhVVmR80mRwaKe08Emh5yM\n",
              "kt1vDYfzel5h7SIfSOzqvsVPeyhPxupzHb/E7U5fdUsJBuoFyqA9xlx4Nf+0WQ1bV+y9/lcDeYw7\n",
              "3BsMape+aIAhm07WG4j2QL2n8Pqyn6EZyrV/jj+5QevT0C4R0J09BMEmUDYiIXxexu1Y0xraN26B\n",
              "nvGuf+P4MwWzG0obXTlZdZ55IS9nbrtzeouc/71n14eX+z+auDz2svi9pMw0WPaGE68cfC94AI5b\n",
              "9DbtC2657U0YANzkl2s7FV7adaFH1bJL5NIHnR9RxuklKdRakFVy64CE3PMLzYMXv4MbNDO4JZfx\n",
              "JS2W/OQpjme23Sc2/f3QNSqWI/gNvBWOdPE36HFoYiFU7OYJkMa/tkOo8kokTK3vfLJKpUmwlBUu\n",
              "PkcV22yKL18vEw98tx5T3E8svc4/uxBBlq0d0PhnIQlGy90fxuYHMQ8uXxT68v+bheZmesX9v2LT\n",
              "CykLmNBHYW+Se6r4iGzBBE2K8oWjtHruzW2fT3A7f/Hyldq1EAc4v1CG7lnBpOCvrsFLI+BBIKI6\n",
              "sj9qCCtyqBt2O0IrbvSN/QQYtmxNWLf0CNFXkJqDz2PHgdkAs2Vo2mQloUeLf6BCiiKnL/oyh5m3\n",
              "wzhC7ds6XUe6uRBSZ+KBJ+l77CNmxbU6y7F3/uOqxfIhtZ+7vC0o7bLxDqFBgCSrJ9uXLLYCVdi7\n",
              "BE6LEtmni6mIpv2UBozM3dedAx2dVkw9hoz7dca1/UXf/EbtNdc96huqxyrDi81/CVsKqUPr+eBm\n",
              "t0Rkf8yH++6eLOdwAa+uee0xf7On2Rn3GxiTljLrzu4kvDUkw1eQY6ZAHO0upP8jrSvtrQCXwsoi\n",
              "7Sn3Htx1Jl4qSpJOXPW5J0tujKmR6m3eDFPjXw2IRyga6pGnFgDquPQ+vQmV2lTMXzX1AU8esJfZ\n",
              "2AUPledPARORKld+KrjPZv7brEMYALAqchKHXKkSVMIgvGli4rZ83vywvc1wkGDfe2T9GK/UGXcu\n",
              "XIlmZ9bGSsMxynGwF4yGS14GCpZpC86Zk3eQoOFybarffP3xMLyP4ec8qXpL/LpLDAp5OZZZQ5hy\n",
              "xVMI+tZvmIfcsgiBudOwYFxMrkNswaMIRJdmfx/mVadhiaZTm2fsLyTjHbiuLF0+YIcGqqleMLJq\n",
              "HNviW+GL1McTdxaqIn7fSqOs5eL5x9Gp3g3qOjVuZ8nGa9Ek06XStMkFJNY7iczZl+0ivNm2i2mc\n",
              "qKVihUpc7CnQ0oqqYnXxID3Oi1WWGQBK0nf8WmyNUpKO3Zb0qF4zo7Zf1V27weTu5Oi68GNFxznP\n",
              "7ifWl/yzTXPDqE/5vqVYa6y9JqALILzRGiL2ylr6yIozQ5BOb/5BUBxBJTBqU1vP/EhheI/veVi1\n",
              "RCGCQ2c2mefC5vIvcHg7Q+q/eTABnTXB/J20waC0iFvpkZqIyr8JFkqqoLNyjylbeJ7hwBW2o987\n",
              "mQvIrFTX68SLrstyp14vxyssgQ3UsvjpP1mwMUA4ahfxIk1mxf8NQGpZFjeOab6Y22JRkyqBok2y\n",
              "3SxBC6WWBRTWPCdhmWW/jwsGFNxGn8iqzdzTa8EwEOZW7b32kUETPs2PzplUfVa0m8OtZ0pBXm9o\n",
              "NlJPBygazqR4QcwIiVvbu4VIjEYyWkDcnspfaoq5g+DLVGx73PUSDd4hbvAO+29kGX4t4grxMUAX\n",
              "14I0/HSh5+ujL9hb4NN1e64Mg+JCQIH8O1ph01KBQqVTEZ043N/GRJ7GkNcAq2AYE5RwzbOlIszt\n",
              "mAHDs0sTHhmMsGReATjLOp8ppndwaEHA4jiGaEXXDMAgdyP+I8uLX6/KqgWa9pbU3d7WCL0SzECb\n",
              "nTmhB76KdoARS9jsy7JCAd00Rh/Iu3TgAhDM3psQWT8XBCPzDk3fV0FOHMivcJNRgmfmvbxs6SeV\n",
              "sSaB+8OSIrKtO2+SirqXtEaQEuoIl+4swNk6ZCwCHk3C1Nu1bdaa7m493ef9M3o5S5gneXSR4zBw\n",
              "Uo6c4ubRYrMUWV1WVsibZOa5XBktJ6J016c8dXOLq21w/r0atdgrIXFq+gT3EtqNTOFXKu/GKKyL\n",
              "WwZL42h9wheCm62N8tW9DSVkpEZJ9ojqYlphxQxSaXe5FeD9v05FC8WB2ljUioIygdtajxJqawiG\n",
              "3JAZHHZb61jfSoCuWVXIajVx/TV4ywxCmEY6Db+tEOt0OsI7k3bWvAB7rgFGNZ75xpZ0o/NZOWyK\n",
              "83CuIF80ulzMbQy7GeqDGZTZFP+2VnnlFv0FwmTYiJBQ9c3NRNjmYyJaC1MZ83eCi6bYUh1eI1i/\n",
              "eDlKRLvlYIGSI9x74yFhJcxJpwGfQWTXGWc5fNV9pA4KWfBy+p0+AjifxQLRnNqous3H81eJo242\n",
              "TpzvD9Fu2bDKmB7lyLYw5vT1DMdE7yCl7NhMKesUJj9t4d0K3scXn3kF0J9CM4IEdVjyx/ti7P9F\n",
              "KekUHu5l1WKmFVp7wGDgCuEZYnNRsj43H1im3bbSq1nAWAmuoqHRSDSlWelfrSPPY8WbDPOkdbmZ\n",
              "9vB6GiDgf+j8s/X9g8oIte1SxS26xZ1KkjoXviiY0NO+m0A1vOKYc+/v0+B9FeyGqeS15iaY2yLj\n",
              "vrqNz3j9BiyAE5t9ZrX00WKez/HrYjMAnd8o6WJ9ftdF3y3eL8y2bb0/3CK62rlSp8Icomp7lWL9\n",
              "ZwrCAjeNS+uwAlbGrNE59j8WQ/ji6iqAigxdxAKYsEa/9hAFjoay91AXbQb3GFG054M2Tlc5yCEa\n",
              "UiCUaUCqiXCEiihJ7E4zJdztYLnPbw4WTWBefvt3VKz7LKYZWmJGdGmdDztY1DFWLnE8jGsygDXm\n",
              "GiIzRcNYPYeqZvk3xBAuVjWUut/8P7cZyAPQYkCbxy6U4OnODoMn6gUX69v2TGLEKP+uUy1MMHCt\n",
              "etKPDNKUfHNbohHe0AkfOsJ9361yBst1BIE6jpzMc/v43T4SsIduJ/TJIpsDk9W/StzBi5riIBSA\n",
              "MmpwqY5z5H9e0157XBlZh+FQcg2HQL2cG+csJxTRFNwGnT21nD+60NyU3867K55Y2bc9T3mHQB5W\n",
              "2OmXmddIks5xi1UAzXmVvTUjVFVAZBiOX2KOnDRvBRYmZWKCS0JL21VyfzqqBERXGf8TVLLJCjOR\n",
              "IOiAh46d6RJXEMelV5nYbwkzL231oVnLJHxAEC9HdIGTrkPG+XeqgXoymjj2Zu5Y5l7jjp6VCVgX\n",
              "mesgQ85kybctU/CZcgDUZbImT/fCPMcWxeuj/wZ+Dko1VyLyKqav4CMgq8kQDUUNmERvNseexN/H\n",
              "pYB5i5PwWmtJFiBrK7nt4xtCLKzm5JABPWwkMB6zIeZDFPVn0W8rOdY18pm4lsn8SeDWxRolL3Ng\n",
              "Zd5EV54rli4qI9rhDJHGRczQX5P8kyv2Jv728YXniv9CGvD+WBc2Coow558a64/JipZiTmpN3wss\n",
              "tk75IbEL7QILOzghVkZ/DT9J8Rsx1IzSc9o06mAlZSXZFEf2EiVQpD+x2vCpkeG6wFKCx08e+QkO\n",
              "lelugJY9swUpwcwn/tSPZkDk3l7gd0MseuEihbH0fGQnLZ4/12mWD8SgRo0lf8YikH50miiP96jq\n",
              "XL7OjDxH8mK1S72OFLidACe/jm7HDeFrScbP2E6oJAI1CerAQQcIAGn3FgKNNMAmt5Ki81tXMwbU\n",
              "pInauyXDNd9kaS9er0Ws3lZjUb3FQysBWqzHo1VUn5YPqMeRtV6T0LsqcpZdjHreZ6/zWncUuCQG\n",
              "98zj8eM0VC0TaFYo2iBJzjMD1AoM2S/mDlbq0Cel+XheItpdce8saDg1MHhAp7O0gQY5Nl7BetZ7\n",
              "Q5cKanKf7EgrwGIneRsp0EPTgPNNOBCs6AMohckKC8HVeX6KQBdNoVF2Irl8olBAfqFqshiGcQBY\n",
              "pMaU9ofDw6l6cvZHpxH5fdCh9x04L72WcRWT+vTUzhTqm4hd3SQeRrxTEPX80zPnCSVIUT0MDiLB\n",
              "3of2VeJYq881kOnr5fnA1tHArMriO+T8T8U1Jwtg4qU11/VCnetL8HZOYaNBhgJD9x+lwoUG3K7s\n",
              "q1djKnapgzzxiKXwnwpXdkhTiNpqcouwv2kcQywVb4CjIJRAKtqi6zgY8AAAAJhBnkJ4gh8AAfsc\n",
              "yyAAWQqmkIr9QiooVIBy5piFMAman7qgNLOXYoa4JRGugXH8ruYG1ddLE4ECiCLAJs//b0B+W7iD\n",
              "BtepPh7Izgp3L2ac4+BV4BLkqPY51HJ/bsx1D3lfqAA0rVkY0SfBkrGyaAG3v5mhntz8J0am8R1A\n",
              "qFlCtJvD2/SDRijYOHo9pTunItYAGLzrF2wwIQAAAJQBnmF0Q/8ADI/94hVAB+dBnVvqZJlidOu6\n",
              "31m/qEE06eLxH5i/of88Lz7hcoRjVi0Uoltm5lvXnzVZsx43iF3IxaHHxasfCD9SnRuQUgL3Z45n\n",
              "TuliCutBhjhlIIoXBlSj98N+usy7RTBzYcTQzkrkNzU0KzXKBg/bxS6JU+bCdvRD4lbUpt4FStB9\n",
              "SNeiSYYBwOOAAAAAewGeY2pD/wAMjmh+vkbYmgbyoAP5KCngiQsJcJG2bZDYuVCmBjPxl58BUGPV\n",
              "Z1iIdjRg/u0WK77+e8S+MLSfw8g4dEIpk+g6shcwNpml7CtJ0eAqhtPhCvB91P9xay1YON5zquDu\n",
              "JkqjIVQYq8yvKeEOYHFsklD1Cd9DewAAB+pBmmdJqEFomUwIf//+qZYADKLNoYijMAH8auu+9PsH\n",
              "XC0B9Ytly6KUgAMWR4tIHTtuu4F1zDRqzd4R9HcvlqgUqa7HpJs9XnF8tP5NSF15U/06KungKJGL\n",
              "CaM7m7KZytBE8SAEbVMfbv7j3mcPylZ/+7UK3xgzJEvcJcv0BUky2XzNiu7yx2nTDqXmEXTk4ZPe\n",
              "ZcBehsvgwaOMwZE9IncJhyasIrtvROvIF+l/2CV6t6mQ5KcMcqQ9c+Mnb44dMP519JQtkP0883sr\n",
              "+Ufx9EEVkjYVpXCYIhzQQmCx8TjDONAJxfl3mTj1SoiglnPC4TWQRWzU3mfG9EvYLwVQP9ZCxNew\n",
              "pRPDGj+Ww2wh//nDWO1qRVOwjsxm2q0qyhOVHWeCf3zlGCCBes0QTvnMEaOJKMu3t4GS79POKeEW\n",
              "xPgON31cu2eA9dDOFCEnpxIp5kmbm0c++lMEeDcBPzfIN7Kd/BKSMrsZ6ku6uYv1kdJnpS/f3Dt9\n",
              "5jLpTRIDDWvCtn1cdem5tdAfuoTNC18LtUpJUanxdhzRcEE/n1KWHNc6qvyLY6URCTmU1euuWWxH\n",
              "y6/bjA/baaJANqBPoaSjq+AMmGhtZtntDpwIGevx5bhhPEVqiWeDeExlZGJOeP5SKPe9VyrZulFB\n",
              "Ge/7M/+7A9GnTNvUSbkDsQ1FknBKFis2jaUxhNezkrOos0hWLYCEAoEBKPbo9JwTXkUuxa/o78dK\n",
              "ZVOt1DXsSZaNRATA4+CnKlEwOyFfOl9r8gZuK9OBAJEZSnkiHkmoPgCvVAMIajt5G+nv/uI6/S99\n",
              "Nf3OoJC4ZsJo+5I/v1ET8MJrzmYIIuYnPBtlNmc7K7tfHzEZMNCtc4vza36moLNRXS2EeECj0SUn\n",
              "lNQ/LGTYoBOolrv4Di5yDUS5zAS+7p1Q4xTY0eYY75Y3iLTw4VmBy4MwRQFMtfPuWAZFWu6GDQpX\n",
              "PtG6B6EXm2GDLgU774IfXse3qOB310psXEr9kd+0nYjGi97/2/V6AeXDqqDpRnUL5PvgQJx++/Ug\n",
              "5OstyG1ed6hm2Xsi9YAJMtxk3wtriVKf2wLtSCAkPtpS+uUTnFoWQJPZBZHVZipJEoc561c8g6HB\n",
              "LtL9gdPrLfRkgBkxZCe36rWvI3ZJsbHnRfm++tREgTMW8pVUW8XTuloD2pIdXthNm/yJNKvgclSz\n",
              "OFDcDankxaiSoUwn67uOwS8PlECPAXUrq5iEbrtJLl90pvHArzCCeohY5jCge0hsq8u72KtvbAxp\n",
              "laYEYEuIn71o5IdilXnNqPAzGXCwvmdAsiIrxMiDjSm0b8XqSNylyPgHEnnPQEw1J3N+nbbgJ3gp\n",
              "e6P47603gW67c8IY1mQ8/hxZSr8LaNmJWaMJDbWWUVvk4W5m7Bfx/jGUvlveujccBJxN83vD9NQb\n",
              "L0KAS8ldsThWSSGwbaRjkHPPKH3ys6sBYH8zgMx/xdppTTvC6z/T7MZdoLjoWxFV1WuR/AQLcEv7\n",
              "ZDnIPdH35a11z8OChEeYHXzELdxZMaM2fXiKMN3C32S4BiZltLNpMXD+7qcIBhbtCM0vPxU4eCkR\n",
              "fPwrw6SEFSYIK2IsHSwVNnZgRFUIAgLdsNyY4sASfJNxho1mHlxkb8PscuGRQFSzZjL+rmDyiAdI\n",
              "+hl/l8/DlnaFfb39yqNgLwoGDuR3poonABGDgNHqukeU8eR8ltCJDIktFalcX/RBXGmLeaTFtuPM\n",
              "pr00RC8uMs5y08N+3mdiyMYA0XAxVlJvZqDOyNBnPm10l0svHdBYA+zN82DzQS3jcwvbM3GYlkWC\n",
              "3FZLAEeUBnmc+7MkbD0QdCPdrV6bLeJAHafvv9GKMdCfOKptmgzkRpEXViLxu0yKAJox+8MUpCqB\n",
              "i/9+lHL72xPRc3ZDAzUDJBFgOdFx5uJ+IqCuN8NIKrf0D4hN23Jg9i2TFsL8z81Jukkz3jZbNhnO\n",
              "vKcppDwxNZ0Wg63LhPwGuKgEkFlTU2chwMsYvIrf37v3u1Qihns/ySRvU/FKoq9Jj4ymmpSo2SL3\n",
              "VLy2XeNeejRjb/tlKLJeSom5yC6wRI60K8gToLIYqRUiBB+M1zqiXLvbkUzLhCimH5J/Svba/fxS\n",
              "zE4JYhcXeEltDsWnY2konTzqP/3MfQY0XfZsBS0S/paz5X4Jv10BHcJKouKEPGaOIB07PRViTgVb\n",
              "MBS4NY6+JMNAHQcO7/3LkMxJAika3TC0Vk1sAW1goJs+JuKDIntt7l5kXhfRc2sMgaW3iC/iKALE\n",
              "w3+kwgt5mwmRM5rppTYmAaQhXnCkLkIFOcWMlWVuZBJuIfp3ZUG8nw6fDwHQOHmfB/SAEBxtIGks\n",
              "qqIODlRzRMTPH5odkIMXOl6+zZtW3ZRN16lijlY+m9PZYgNVtPqoJ1jl3Z2MXC0qaIV3UyFurICY\n",
              "6gaYKGMWjWp4dM7HKq2chqDeVhhETyrAR0XRjGD6SFURLmoRJOQ3XUQvDJO3uOjgmE94WMsdY9vR\n",
              "RraN2pq7DQ0Kv20NsmdLdp5N1Pkx80nPDQ8GN30KOQi2dGuE7dDNcr7Anqg5vbRE697fnCodGsy1\n",
              "qBFQRdEMdVeolz+GPbgEDysJlbTdA+qThEnMyHEeNpE+5es2Jm/erjJf0uvegE8DQ4nd4LdsUECl\n",
              "txxmRBE2bcdimWZTufj02u97P0eS6Q5vlLyDyx7yEeBGy98X6VY2rPhB5lWMADag50b1jRcAAPmB\n",
              "AAAAeUGehUURLBD/AAH2Df1/BJqgANqvOREBiXv6bryl7AbPsS8KxlggDyWFemIBt5/O3fiSABAX\n",
              "YJbtQaH+yK6LSGfAEgCH193WUfEnCrJt5UHFyDvlE94GW55V/lm3Rh8c6CkkLDm10pUw9y+2/DXY\n",
              "+wMe7K6JofgYPmEAAAB9AZ6makP/AAR0afHax0AE5J8rO8jplqgRMYC1TByw3ik1Nw8Olh0V4MrQ\n",
              "foGAdgtn/ALmMBuu0FXh+A8HjhOeAv7yq7jgI7gX3+hBg18WI6p18pTdklHsVrIOAGWr/XjGWBSf\n",
              "adZme1tec7HN0vSQsWgckXpAP4AR287QVMEAAAOKbW9vdgAAAGxtdmhkAAAAAAAAAAAAAAAAAAAD\n",
              "6AAABkAAAQAAAQAAAAAAAAAAAAAAAAEAAAAAAAAAAAAAAAAAAAABAAAAAAAAAAAAAAAAAABAAAAA\n",
              "AAAAAAAAAAAAAAAAAAAAAAAAAAAAAAAAAAAAAgAAArR0cmFrAAAAXHRraGQAAAADAAAAAAAAAAAA\n",
              "AAABAAAAAAAABkAAAAAAAAAAAAAAAAAAAAAAAAEAAAAAAAAAAAAAAAAAAAABAAAAAAAAAAAAAAAA\n",
              "AABAAAAAAoAAAAHgAAAAAAAkZWR0cwAAABxlbHN0AAAAAAAAAAEAAAZAAAAQAAABAAAAAAIsbWRp\n",
              "YQAAACBtZGhkAAAAAAAAAAAAAAAAAAAoAAAAQABVxAAAAAAALWhkbHIAAAAAAAAAAHZpZGUAAAAA\n",
              "AAAAAAAAAABWaWRlb0hhbmRsZXIAAAAB121pbmYAAAAUdm1oZAAAAAEAAAAAAAAAAAAAACRkaW5m\n",
              "AAAAHGRyZWYAAAAAAAAAAQAAAAx1cmwgAAAAAQAAAZdzdGJsAAAAt3N0c2QAAAAAAAAAAQAAAKdh\n",
              "dmMxAAAAAAAAAAEAAAAAAAAAAAAAAAAAAAAAAoAB4ABIAAAASAAAAAAAAAABAAAAAAAAAAAAAAAA\n",
              "AAAAAAAAAAAAAAAAAAAAAAAAAAAAGP//AAAANWF2Y0MBZAAW/+EAGGdkABas2UCgPaEAAAMAAQAA\n",
              "AwAKDxYtlgEABmjr48siwP34+AAAAAAcdXVpZGtoQPJfJE/FujmlG88DI/MAAAAAAAAAGHN0dHMA\n",
              "AAAAAAAAAQAAAAgAAAgAAAAAFHN0c3MAAAAAAAAAAQAAAAEAAABIY3R0cwAAAAAAAAAHAAAAAQAA\n",
              "EAAAAAABAAAoAAAAAAEAABAAAAAAAQAAAAAAAAABAAAIAAAAAAEAACAAAAAAAgAACAAAAAAcc3Rz\n",
              "YwAAAAAAAAABAAAAAQAAAAgAAAABAAAANHN0c3oAAAAAAAAAAAAAAAgAAFxiAAAOeQAAAJwAAACY\n",
              "AAAAfwAAB+4AAAB9AAAAgQAAABRzdGNvAAAAAAAAAAEAAAAwAAAAYnVkdGEAAABabWV0YQAAAAAA\n",
              "AAAhaGRscgAAAAAAAAAAbWRpcmFwcGwAAAAAAAAAAAAAAAAtaWxzdAAAACWpdG9vAAAAHWRhdGEA\n",
              "AAABAAAAAExhdmY1OC43Ni4xMDA=\n",
              "\">\n",
              "  Your browser does not support the video tag.\n",
              "</video>"
            ]
          },
          "metadata": {},
          "execution_count": 29
        },
        {
          "output_type": "display_data",
          "data": {
            "text/plain": [
              "<Figure size 640x480 with 1 Axes>"
            ],
            "image/png": "[encoded data removed]"
          },
          "metadata": {}
        }
      ]
    },
    {
      "cell_type": "code",
      "source": [
        "!pip install nbconvert"
      ],
      "metadata": {
        "colab": {
          "base_uri": "https://localhost:8080/"
        },
        "id": "2L1bhP69rv1y",
        "outputId": "71d5e8a9-5adf-4aed-a488-668fc5bdc6d6"
      },
      "execution_count": null,
      "outputs": [
        {
          "output_type": "stream",
          "name": "stdout",
          "text": [
            "Requirement already satisfied: nbconvert in /usr/local/lib/python3.10/dist-packages (6.5.4)\n",
            "Requirement already satisfied: lxml in /usr/local/lib/python3.10/dist-packages (from nbconvert) (4.9.3)\n",
            "Requirement already satisfied: beautifulsoup4 in /usr/local/lib/python3.10/dist-packages (from nbconvert) (4.11.2)\n",
            "Requirement already satisfied: bleach in /usr/local/lib/python3.10/dist-packages (from nbconvert) (6.0.0)\n",
            "Requirement already satisfied: defusedxml in /usr/local/lib/python3.10/dist-packages (from nbconvert) (0.7.1)\n",
            "Requirement already satisfied: entrypoints>=0.2.2 in /usr/local/lib/python3.10/dist-packages (from nbconvert) (0.4)\n",
            "Requirement already satisfied: jinja2>=3.0 in /usr/local/lib/python3.10/dist-packages (from nbconvert) (3.1.2)\n",
            "Requirement already satisfied: jupyter-core>=4.7 in /usr/local/lib/python3.10/dist-packages (from nbconvert) (5.3.1)\n",
            "Requirement already satisfied: jupyterlab-pygments in /usr/local/lib/python3.10/dist-packages (from nbconvert) (0.2.2)\n",
            "Requirement already satisfied: MarkupSafe>=2.0 in /usr/local/lib/python3.10/dist-packages (from nbconvert) (2.1.3)\n",
            "Requirement already satisfied: mistune<2,>=0.8.1 in /usr/local/lib/python3.10/dist-packages (from nbconvert) (0.8.4)\n",
            "Requirement already satisfied: nbclient>=0.5.0 in /usr/local/lib/python3.10/dist-packages (from nbconvert) (0.8.0)\n",
            "Requirement already satisfied: nbformat>=5.1 in /usr/local/lib/python3.10/dist-packages (from nbconvert) (5.9.2)\n",
            "Requirement already satisfied: packaging in /usr/local/lib/python3.10/dist-packages (from nbconvert) (23.1)\n",
            "Requirement already satisfied: pandocfilters>=1.4.1 in /usr/local/lib/python3.10/dist-packages (from nbconvert) (1.5.0)\n",
            "Requirement already satisfied: pygments>=2.4.1 in /usr/local/lib/python3.10/dist-packages (from nbconvert) (2.16.1)\n",
            "Requirement already satisfied: tinycss2 in /usr/local/lib/python3.10/dist-packages (from nbconvert) (1.2.1)\n",
            "Requirement already satisfied: traitlets>=5.0 in /usr/local/lib/python3.10/dist-packages (from nbconvert) (5.7.1)\n",
            "Requirement already satisfied: platformdirs>=2.5 in /usr/local/lib/python3.10/dist-packages (from jupyter-core>=4.7->nbconvert) (3.10.0)\n",
            "Requirement already satisfied: jupyter-client>=6.1.12 in /usr/local/lib/python3.10/dist-packages (from nbclient>=0.5.0->nbconvert) (6.1.12)\n",
            "Requirement already satisfied: fastjsonschema in /usr/local/lib/python3.10/dist-packages (from nbformat>=5.1->nbconvert) (2.18.0)\n",
            "Requirement already satisfied: jsonschema>=2.6 in /usr/local/lib/python3.10/dist-packages (from nbformat>=5.1->nbconvert) (4.19.0)\n",
            "Requirement already satisfied: soupsieve>1.2 in /usr/local/lib/python3.10/dist-packages (from beautifulsoup4->nbconvert) (2.5)\n",
            "Requirement already satisfied: six>=1.9.0 in /usr/local/lib/python3.10/dist-packages (from bleach->nbconvert) (1.16.0)\n",
            "Requirement already satisfied: webencodings in /usr/local/lib/python3.10/dist-packages (from bleach->nbconvert) (0.5.1)\n",
            "Requirement already satisfied: attrs>=22.2.0 in /usr/local/lib/python3.10/dist-packages (from jsonschema>=2.6->nbformat>=5.1->nbconvert) (23.1.0)\n",
            "Requirement already satisfied: jsonschema-specifications>=2023.03.6 in /usr/local/lib/python3.10/dist-packages (from jsonschema>=2.6->nbformat>=5.1->nbconvert) (2023.7.1)\n",
            "Requirement already satisfied: referencing>=0.28.4 in /usr/local/lib/python3.10/dist-packages (from jsonschema>=2.6->nbformat>=5.1->nbconvert) (0.30.2)\n",
            "Requirement already satisfied: rpds-py>=0.7.1 in /usr/local/lib/python3.10/dist-packages (from jsonschema>=2.6->nbformat>=5.1->nbconvert) (0.10.2)\n",
            "Requirement already satisfied: pyzmq>=13 in /usr/local/lib/python3.10/dist-packages (from jupyter-client>=6.1.12->nbclient>=0.5.0->nbconvert) (23.2.1)\n",
            "Requirement already satisfied: python-dateutil>=2.1 in /usr/local/lib/python3.10/dist-packages (from jupyter-client>=6.1.12->nbclient>=0.5.0->nbconvert) (2.8.2)\n",
            "Requirement already satisfied: tornado>=4.1 in /usr/local/lib/python3.10/dist-packages (from jupyter-client>=6.1.12->nbclient>=0.5.0->nbconvert) (6.3.2)\n"
          ]
        }
      ]
    },
    {
      "cell_type": "code",
      "source": [
        "!jupyter nbconvert --to html /content/Energy-Efficient Routing and Communication Protocols for IoT Networks in Smart Cities.ipynb"
      ],
      "metadata": {
        "colab": {
          "base_uri": "https://localhost:8080/"
        },
        "id": "5-DHrwELrwDs",
        "outputId": "131fa948-afbf-46c9-a2ac-3e5096816898"
      },
      "execution_count": null,
      "outputs": [
        {
          "output_type": "stream",
          "name": "stdout",
          "text": [
            "[NbConvertApp] WARNING | pattern '/content/Energy-Efficient' matched no files\n",
            "[NbConvertApp] WARNING | pattern 'Routing' matched no files\n",
            "[NbConvertApp] WARNING | pattern 'and' matched no files\n",
            "[NbConvertApp] WARNING | pattern 'Communication' matched no files\n",
            "[NbConvertApp] WARNING | pattern 'Protocols' matched no files\n",
            "[NbConvertApp] WARNING | pattern 'for' matched no files\n",
            "[NbConvertApp] WARNING | pattern 'IoT' matched no files\n",
            "[NbConvertApp] WARNING | pattern 'Networks' matched no files\n",
            "[NbConvertApp] WARNING | pattern 'in' matched no files\n",
            "[NbConvertApp] WARNING | pattern 'Smart' matched no files\n",
            "[NbConvertApp] WARNING | pattern 'Cities.ipynb' matched no files\n",
            "This application is used to convert notebook files (*.ipynb)\n",
            "        to various other formats.\n",
            "\n",
            "        WARNING: THE COMMANDLINE INTERFACE MAY CHANGE IN FUTURE RELEASES.\n",
            "\n",
            "Options\n",
            "=======\n",
            "The options below are convenience aliases to configurable class-options,\n",
            "as listed in the \"Equivalent to\" description-line of the aliases.\n",
            "To see all configurable class-options for some <cmd>, use:\n",
            "    <cmd> --help-all\n",
            "\n",
            "--debug\n",
            "    set log level to logging.DEBUG (maximize logging output)\n",
            "    Equivalent to: [--Application.log_level=10]\n",
            "--show-config\n",
            "    Show the application's configuration (human-readable format)\n",
            "    Equivalent to: [--Application.show_config=True]\n",
            "--show-config-json\n",
            "    Show the application's configuration (json format)\n",
            "    Equivalent to: [--Application.show_config_json=True]\n",
            "--generate-config\n",
            "    generate default config file\n",
            "    Equivalent to: [--JupyterApp.generate_config=True]\n",
            "-y\n",
            "    Answer yes to any questions instead of prompting.\n",
            "    Equivalent to: [--JupyterApp.answer_yes=True]\n",
            "--execute\n",
            "    Execute the notebook prior to export.\n",
            "    Equivalent to: [--ExecutePreprocessor.enabled=True]\n",
            "--allow-errors\n",
            "    Continue notebook execution even if one of the cells throws an error and include the error message in the cell output (the default behaviour is to abort conversion). This flag is only relevant if '--execute' was specified, too.\n",
            "    Equivalent to: [--ExecutePreprocessor.allow_errors=True]\n",
            "--stdin\n",
            "    read a single notebook file from stdin. Write the resulting notebook with default basename 'notebook.*'\n",
            "    Equivalent to: [--NbConvertApp.from_stdin=True]\n",
            "--stdout\n",
            "    Write notebook output to stdout instead of files.\n",
            "    Equivalent to: [--NbConvertApp.writer_class=StdoutWriter]\n",
            "--inplace\n",
            "    Run nbconvert in place, overwriting the existing notebook (only\n",
            "            relevant when converting to notebook format)\n",
            "    Equivalent to: [--NbConvertApp.use_output_suffix=False --NbConvertApp.export_format=notebook --FilesWriter.build_directory=]\n",
            "--clear-output\n",
            "    Clear output of current file and save in place,\n",
            "            overwriting the existing notebook.\n",
            "    Equivalent to: [--NbConvertApp.use_output_suffix=False --NbConvertApp.export_format=notebook --FilesWriter.build_directory= --ClearOutputPreprocessor.enabled=True]\n",
            "--no-prompt\n",
            "    Exclude input and output prompts from converted document.\n",
            "    Equivalent to: [--TemplateExporter.exclude_input_prompt=True --TemplateExporter.exclude_output_prompt=True]\n",
            "--no-input\n",
            "    Exclude input cells and output prompts from converted document.\n",
            "            This mode is ideal for generating code-free reports.\n",
            "    Equivalent to: [--TemplateExporter.exclude_output_prompt=True --TemplateExporter.exclude_input=True --TemplateExporter.exclude_input_prompt=True]\n",
            "--allow-chromium-download\n",
            "    Whether to allow downloading chromium if no suitable version is found on the system.\n",
            "    Equivalent to: [--WebPDFExporter.allow_chromium_download=True]\n",
            "--disable-chromium-sandbox\n",
            "    Disable chromium security sandbox when converting to PDF..\n",
            "    Equivalent to: [--WebPDFExporter.disable_sandbox=True]\n",
            "--show-input\n",
            "    Shows code input. This flag is only useful for dejavu users.\n",
            "    Equivalent to: [--TemplateExporter.exclude_input=False]\n",
            "--embed-images\n",
            "    Embed the images as base64 dataurls in the output. This flag is only useful for the HTML/WebPDF/Slides exports.\n",
            "    Equivalent to: [--HTMLExporter.embed_images=True]\n",
            "--sanitize-html\n",
            "    Whether the HTML in Markdown cells and cell outputs should be sanitized..\n",
            "    Equivalent to: [--HTMLExporter.sanitize_html=True]\n",
            "--log-level=<Enum>\n",
            "    Set the log level by value or name.\n",
            "    Choices: any of [0, 10, 20, 30, 40, 50, 'DEBUG', 'INFO', 'WARN', 'ERROR', 'CRITICAL']\n",
            "    Default: 30\n",
            "    Equivalent to: [--Application.log_level]\n",
            "--config=<Unicode>\n",
            "    Full path of a config file.\n",
            "    Default: ''\n",
            "    Equivalent to: [--JupyterApp.config_file]\n",
            "--to=<Unicode>\n",
            "    The export format to be used, either one of the built-in formats\n",
            "            ['asciidoc', 'custom', 'html', 'latex', 'markdown', 'notebook', 'pdf', 'python', 'rst', 'script', 'slides', 'webpdf']\n",
            "            or a dotted object name that represents the import path for an\n",
            "            ``Exporter`` class\n",
            "    Default: ''\n",
            "    Equivalent to: [--NbConvertApp.export_format]\n",
            "--template=<Unicode>\n",
            "    Name of the template to use\n",
            "    Default: ''\n",
            "    Equivalent to: [--TemplateExporter.template_name]\n",
            "--template-file=<Unicode>\n",
            "    Name of the template file to use\n",
            "    Default: None\n",
            "    Equivalent to: [--TemplateExporter.template_file]\n",
            "--theme=<Unicode>\n",
            "    Template specific theme(e.g. the name of a JupyterLab CSS theme distributed\n",
            "    as prebuilt extension for the lab template)\n",
            "    Default: 'light'\n",
            "    Equivalent to: [--HTMLExporter.theme]\n",
            "--sanitize_html=<Bool>\n",
            "    Whether the HTML in Markdown cells and cell outputs should be sanitized.This\n",
            "    should be set to True by nbviewer or similar tools.\n",
            "    Default: False\n",
            "    Equivalent to: [--HTMLExporter.sanitize_html]\n",
            "--writer=<DottedObjectName>\n",
            "    Writer class used to write the\n",
            "                                        results of the conversion\n",
            "    Default: 'FilesWriter'\n",
            "    Equivalent to: [--NbConvertApp.writer_class]\n",
            "--post=<DottedOrNone>\n",
            "    PostProcessor class used to write the\n",
            "                                        results of the conversion\n",
            "    Default: ''\n",
            "    Equivalent to: [--NbConvertApp.postprocessor_class]\n",
            "--output=<Unicode>\n",
            "    overwrite base name use for output files.\n",
            "                can only be used when converting one notebook at a time.\n",
            "    Default: ''\n",
            "    Equivalent to: [--NbConvertApp.output_base]\n",
            "--output-dir=<Unicode>\n",
            "    Directory to write output(s) to. Defaults\n",
            "                                  to output to the directory of each notebook. To recover\n",
            "                                  previous default behaviour (outputting to the current\n",
            "                                  working directory) use . as the flag value.\n",
            "    Default: ''\n",
            "    Equivalent to: [--FilesWriter.build_directory]\n",
            "--reveal-prefix=<Unicode>\n",
            "    The URL prefix for reveal.js (version 3.x).\n",
            "            This defaults to the reveal CDN, but can be any url pointing to a copy\n",
            "            of reveal.js.\n",
            "            For speaker notes to work, this must be a relative path to a local\n",
            "            copy of reveal.js: e.g., \"reveal.js\".\n",
            "            If a relative path is given, it must be a subdirectory of the\n",
            "            current directory (from which the server is run).\n",
            "            See the usage documentation\n",
            "            (https://nbconvert.readthedocs.io/en/latest/usage.html#reveal-js-html-slideshow)\n",
            "            for more details.\n",
            "    Default: ''\n",
            "    Equivalent to: [--SlidesExporter.reveal_url_prefix]\n",
            "--nbformat=<Enum>\n",
            "    The nbformat version to write.\n",
            "            Use this to downgrade notebooks.\n",
            "    Choices: any of [1, 2, 3, 4]\n",
            "    Default: 4\n",
            "    Equivalent to: [--NotebookExporter.nbformat_version]\n",
            "\n",
            "Examples\n",
            "--------\n",
            "\n",
            "    The simplest way to use nbconvert is\n",
            "\n",
            "            > jupyter nbconvert mynotebook.ipynb --to html\n",
            "\n",
            "            Options include ['asciidoc', 'custom', 'html', 'latex', 'markdown', 'notebook', 'pdf', 'python', 'rst', 'script', 'slides', 'webpdf'].\n",
            "\n",
            "            > jupyter nbconvert --to latex mynotebook.ipynb\n",
            "\n",
            "            Both HTML and LaTeX support multiple output templates. LaTeX includes\n",
            "            'base', 'article' and 'report'.  HTML includes 'basic', 'lab' and\n",
            "            'classic'. You can specify the flavor of the format used.\n",
            "\n",
            "            > jupyter nbconvert --to html --template lab mynotebook.ipynb\n",
            "\n",
            "            You can also pipe the output to stdout, rather than a file\n",
            "\n",
            "            > jupyter nbconvert mynotebook.ipynb --stdout\n",
            "\n",
            "            PDF is generated via latex\n",
            "\n",
            "            > jupyter nbconvert mynotebook.ipynb --to pdf\n",
            "\n",
            "            You can get (and serve) a Reveal.js-powered slideshow\n",
            "\n",
            "            > jupyter nbconvert myslides.ipynb --to slides --post serve\n",
            "\n",
            "            Multiple notebooks can be given at the command line in a couple of\n",
            "            different ways:\n",
            "\n",
            "            > jupyter nbconvert notebook*.ipynb\n",
            "            > jupyter nbconvert notebook1.ipynb notebook2.ipynb\n",
            "\n",
            "            or you can specify the notebooks list in a config file, containing::\n",
            "\n",
            "                c.NbConvertApp.notebooks = [\"my_notebook.ipynb\"]\n",
            "\n",
            "            > jupyter nbconvert --config mycfg.py\n",
            "\n",
            "To see all available configurables, use `--help-all`.\n",
            "\n"
          ]
        }
      ]
    },
    {
      "cell_type": "code",
      "source": [],
      "metadata": {
        "id": "tT0IzDmdr1P_"
      },
      "execution_count": null,
      "outputs": []
    }
  ]
}